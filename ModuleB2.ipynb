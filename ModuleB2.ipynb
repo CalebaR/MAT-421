{
  "nbformat": 4,
  "nbformat_minor": 0,
  "metadata": {
    "colab": {
      "provenance": [],
      "authorship_tag": "ABX9TyPQW7gwijxsQfCg2mKeOq2N",
      "include_colab_link": true
    },
    "kernelspec": {
      "name": "python3",
      "display_name": "Python 3"
    },
    "language_info": {
      "name": "python"
    }
  },
  "cells": [
    {
      "cell_type": "markdown",
      "metadata": {
        "id": "view-in-github",
        "colab_type": "text"
      },
      "source": [
        "<a href=\"https://colab.research.google.com/github/CalebaR/MAT-421/blob/main/ModuleB2.ipynb\" target=\"_parent\"><img src=\"https://colab.research.google.com/assets/colab-badge.svg\" alt=\"Open In Colab\"/></a>"
      ]
    },
    {
      "cell_type": "markdown",
      "source": [
        "**17.4: Lagrange Polynomial Interpolation**\n",
        "Previously, the cubic polynomial method found polynomials between points. Lagrange polynomial interpolation will find one polynomial that goes through all points."
      ],
      "metadata": {
        "id": "oOBYcscn0EGx"
      }
    },
    {
      "cell_type": "code",
      "source": [],
      "metadata": {
        "id": "URMSGVKF0GXO"
      },
      "execution_count": null,
      "outputs": []
    },
    {
      "cell_type": "markdown",
      "source": [
        "**17.5: Newton’s Polynomial Interpolation**"
      ],
      "metadata": {
        "id": "7XbwUn_Q0HWp"
      }
    },
    {
      "cell_type": "code",
      "source": [],
      "metadata": {
        "id": "dFP9Iy1-0H_0"
      },
      "execution_count": null,
      "outputs": []
    }
  ]
}