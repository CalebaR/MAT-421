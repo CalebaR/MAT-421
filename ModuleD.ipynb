{
  "nbformat": 4,
  "nbformat_minor": 0,
  "metadata": {
    "colab": {
      "provenance": [],
      "authorship_tag": "ABX9TyMRpa606zIJMMi/7oYFcWzf",
      "include_colab_link": true
    },
    "kernelspec": {
      "name": "python3",
      "display_name": "Python 3"
    },
    "language_info": {
      "name": "python"
    }
  },
  "cells": [
    {
      "cell_type": "markdown",
      "metadata": {
        "id": "view-in-github",
        "colab_type": "text"
      },
      "source": [
        "<a href=\"https://colab.research.google.com/github/CalebaR/MAT-421/blob/main/ModuleD.ipynb\" target=\"_parent\"><img src=\"https://colab.research.google.com/assets/colab-badge.svg\" alt=\"Open In Colab\"/></a>"
      ]
    },
    {
      "cell_type": "markdown",
      "source": [
        "**1.1: Introduction**\\\n",
        "This chapter goes over many basics of linear algebra such as linear spaces, orthogonality, eigenvalues, eigenvectors, matrix decomposition and linear regression."
      ],
      "metadata": {
        "id": "SdyUxf1EY6Up"
      }
    },
    {
      "cell_type": "markdown",
      "source": [
        "**1.2: Elements of Linear Algebra**"
      ],
      "metadata": {
        "id": "l-Qwi9PGY8Hs"
      }
    },
    {
      "cell_type": "code",
      "source": [
        "#vector/linear spaces can be represented a few ways in python\n",
        "\n",
        "#lists\n",
        "list1 = [1,2,3,\"four\",5.0]\n",
        "\n",
        "#array\n",
        "import array as arr\n",
        "arr1 = arr.array('i',[1,2,3])\n",
        "\n",
        "#tuple\n",
        "tuple1 = 1,2,3,\"four\",5.0\n",
        "\n",
        "import numpy as np\n",
        "\n",
        "#there are also arrays from numpy\n",
        "vec1 = np.array([[1,2,3]])\n",
        "vec2 = np.array([[1,2],[3]],dtype=object)\n",
        "print(vec1)\n",
        "print(vec2)\n",
        "\n",
        "#transposing vectors\n",
        "print(vec1.T)"
      ],
      "metadata": {
        "id": "216ZYlPiY9fi",
        "colab": {
          "base_uri": "https://localhost:8080/"
        },
        "outputId": "28fa7fee-a59c-4d06-84c9-6dcd0f40bba8"
      },
      "execution_count": 11,
      "outputs": [
        {
          "output_type": "stream",
          "name": "stdout",
          "text": [
            "[[1 2 3]]\n",
            "[list([1, 2]) list([3])]\n",
            "[[1]\n",
            " [2]\n",
            " [3]]\n"
          ]
        }
      ]
    },
    {
      "cell_type": "markdown",
      "source": [
        "**1.3: Linear Regression**"
      ],
      "metadata": {
        "id": "2VLB9anyY-EF"
      }
    },
    {
      "cell_type": "code",
      "source": [],
      "metadata": {
        "id": "dDIIXfdyZCsm"
      },
      "execution_count": null,
      "outputs": []
    }
  ]
}