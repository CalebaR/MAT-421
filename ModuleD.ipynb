{
  "nbformat": 4,
  "nbformat_minor": 0,
  "metadata": {
    "colab": {
      "provenance": [],
      "authorship_tag": "ABX9TyO6wf6q82FzEJC3xadAixhF",
      "include_colab_link": true
    },
    "kernelspec": {
      "name": "python3",
      "display_name": "Python 3"
    },
    "language_info": {
      "name": "python"
    }
  },
  "cells": [
    {
      "cell_type": "markdown",
      "metadata": {
        "id": "view-in-github",
        "colab_type": "text"
      },
      "source": [
        "<a href=\"https://colab.research.google.com/github/CalebaR/MAT-421/blob/main/ModuleD.ipynb\" target=\"_parent\"><img src=\"https://colab.research.google.com/assets/colab-badge.svg\" alt=\"Open In Colab\"/></a>"
      ]
    },
    {
      "cell_type": "markdown",
      "source": [
        "**1.1: Introduction**\\\n",
        "This chapter goes over many basics of linear algebra such as linear spaces, orthogonality, eigenvalues, eigenvectors, matrix decomposition and linear regression."
      ],
      "metadata": {
        "id": "SdyUxf1EY6Up"
      }
    },
    {
      "cell_type": "markdown",
      "source": [
        "**1.2: Elements of Linear Algebra**"
      ],
      "metadata": {
        "id": "l-Qwi9PGY8Hs"
      }
    },
    {
      "cell_type": "code",
      "source": [],
      "metadata": {
        "id": "216ZYlPiY9fi"
      },
      "execution_count": null,
      "outputs": []
    },
    {
      "cell_type": "markdown",
      "source": [
        "**1.3: Linear Regression**"
      ],
      "metadata": {
        "id": "2VLB9anyY-EF"
      }
    },
    {
      "cell_type": "code",
      "source": [],
      "metadata": {
        "id": "dDIIXfdyZCsm"
      },
      "execution_count": null,
      "outputs": []
    }
  ]
}