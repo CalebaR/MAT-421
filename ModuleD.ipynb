{
  "nbformat": 4,
  "nbformat_minor": 0,
  "metadata": {
    "colab": {
      "provenance": [],
      "authorship_tag": "ABX9TyPo9d80crPqQhOm64raDw0v",
      "include_colab_link": true
    },
    "kernelspec": {
      "name": "python3",
      "display_name": "Python 3"
    },
    "language_info": {
      "name": "python"
    }
  },
  "cells": [
    {
      "cell_type": "markdown",
      "metadata": {
        "id": "view-in-github",
        "colab_type": "text"
      },
      "source": [
        "<a href=\"https://colab.research.google.com/github/CalebaR/MAT-421/blob/main/ModuleD.ipynb\" target=\"_parent\"><img src=\"https://colab.research.google.com/assets/colab-badge.svg\" alt=\"Open In Colab\"/></a>"
      ]
    },
    {
      "cell_type": "markdown",
      "source": [
        "**1.1: Introduction**\\\n",
        "This chapter goes over many basics of linear algebra such as linear spaces, orthogonality, eigenvalues, eigenvectors, matrix decomposition and linear regression."
      ],
      "metadata": {
        "id": "SdyUxf1EY6Up"
      }
    },
    {
      "cell_type": "markdown",
      "source": [
        "**1.2: Elements of Linear Algebra**"
      ],
      "metadata": {
        "id": "l-Qwi9PGY8Hs"
      }
    },
    {
      "cell_type": "code",
      "source": [
        "#vector/linear spaces can be represented a few ways in python\n",
        "\n",
        "#lists\n",
        "list1 = [1,2,3,\"four\",5.0]\n",
        "\n",
        "#array\n",
        "import array as arr\n",
        "arr1 = arr.array('i',[1,2,3])\n",
        "\n",
        "#tuple\n",
        "tuple1 = 1,2,3,\"four\",5.0\n",
        "\n",
        "import numpy as np\n",
        "\n",
        "#there are also arrays from numpy\n",
        "vec1 = np.array([[1,2,3]])\n",
        "vec2 = np.array([[1,2],[3,4]])\n",
        "print(vec1)\n",
        "print(vec2)\n",
        "\n",
        "#transposing vectors\n",
        "print(vec1.T)\n",
        "\n",
        "#vector norms in vector space. These are ways to measure the size of the vector\n",
        "from numpy.linalg import norm\n",
        "\n",
        "print(norm(vec1,1))\n",
        "print(norm(vec1,2))\n",
        "print(norm(vec1,np.inf))\n",
        "\n",
        "vec3 = np.array([[0.1,0.2,0.3]])\n",
        "\n",
        "#vector manipulation\n",
        "print(vec1*10)\n",
        "print(vec1+vec3)\n",
        "print(vec1*vec3)\n",
        "\n",
        "#dot product\n",
        "print(np.dot(vec2,vec2))\n",
        "\n",
        "#cross product\n",
        "print(np.cross(vec2,vec2))\n",
        "\n",
        "#orthogonality\n",
        "vec4 = np.array([1,1])\n",
        "vec5 = np.array([2,2])\n",
        "\n",
        "theta = np.arccos(np.dot(vec4, vec5.T)/(norm(vec4)*norm(vec5)))\n",
        "print(theta)\n",
        "\n",
        "#linear combination\n",
        "vec6 = np.array([[0, -2, 0]])\n",
        "print(3*vec1+2*vec3-4*vec6)\n",
        "\n",
        "#linear independence\n",
        "v = [1,1,0]\n",
        "w=[1,0,0]\n",
        "u=[0,0,1] #these vectors are all linearly independent because none of vectors can be written as linear combinations of each other\n",
        "\n",
        "#matrices can easily be made from the same np.array function\n",
        "matrix = np.array([[1,2],[3,4]])\n",
        "print(matrix)\n",
        "\n",
        "#LU decomposition\n",
        "u = np.array([[4, 3, -5],\n",
        "              [0, -2.5, 2.5],\n",
        "              [0, 0, 12]])\n",
        "l = np.array([[1, 0, 0],\n",
        "              [-0.5, 1, 0],\n",
        "              [2, -0.8, 1]])\n",
        "\n",
        "print('LU=', np.dot(l, u))"
      ],
      "metadata": {
        "id": "216ZYlPiY9fi",
        "colab": {
          "base_uri": "https://localhost:8080/"
        },
        "outputId": "8a6e3cae-4819-497c-dab8-442467b3e85d"
      },
      "execution_count": 44,
      "outputs": [
        {
          "output_type": "stream",
          "name": "stdout",
          "text": [
            "[[1 2 3]]\n",
            "[[1 2]\n",
            " [3 4]]\n",
            "[[1]\n",
            " [2]\n",
            " [3]]\n",
            "3.0\n",
            "3.7416573867739413\n",
            "6.0\n",
            "[[10 20 30]]\n",
            "[[1.1 2.2 3.3]]\n",
            "[[0.1 0.4 0.9]]\n",
            "[[ 7 10]\n",
            " [15 22]]\n",
            "[0 0]\n",
            "2.1073424255447017e-08\n",
            "[[ 3.2 14.4  9.6]]\n",
            "[[1 2]\n",
            " [3 4]]\n",
            "LU= [[ 4.  3. -5.]\n",
            " [-2. -4.  5.]\n",
            " [ 8.  8.  0.]]\n"
          ]
        }
      ]
    },
    {
      "cell_type": "markdown",
      "source": [
        "**1.3: Linear Regression**"
      ],
      "metadata": {
        "id": "2VLB9anyY-EF"
      }
    },
    {
      "cell_type": "code",
      "source": [],
      "metadata": {
        "id": "dDIIXfdyZCsm"
      },
      "execution_count": null,
      "outputs": []
    }
  ]
}