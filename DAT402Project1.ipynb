{
  "nbformat": 4,
  "nbformat_minor": 0,
  "metadata": {
    "colab": {
      "provenance": [],
      "authorship_tag": "ABX9TyOM6tNakhK03p7w6+ehdtJB",
      "include_colab_link": true
    },
    "kernelspec": {
      "name": "ir",
      "display_name": "R"
    },
    "language_info": {
      "name": "R"
    }
  },
  "cells": [
    {
      "cell_type": "markdown",
      "metadata": {
        "id": "view-in-github",
        "colab_type": "text"
      },
      "source": [
        "<a href=\"https://colab.research.google.com/github/CalebaR/MAT-421/blob/main/DAT402Project1.ipynb\" target=\"_parent\"><img src=\"https://colab.research.google.com/assets/colab-badge.svg\" alt=\"Open In Colab\"/></a>"
      ]
    },
    {
      "cell_type": "markdown",
      "source": [
        "#  \n",
        "<h1><center>Predicting Normal and Abnormal Wafers</center></h1>\n",
        "<h3><center></center></h3>\n",
        "<h3><center>DAT 402</center></h3>\n",
        "<h3><center>5-29-24</center></h3>\n",
        "\n",
        "## Introduction to the Data\n",
        "The data set is from semiconductor manufacturing. There are 7164 entries and 153 variables. Each entry is a processed wafer. The classifier variable is the first column and is binary having values of \"1\" and \"-1\". \"1\" means the wafer is normal and \"-1\" means the wafer is abnormal. The rest of the 152 variables are process control data from sensors. These are all numerical doubles. The goal of this project is to predict normal and abnormal wafers using the process control data.\n",
        "\n",
        "Data source: https://www.timeseriesclassification.com/description.php?Dataset=Wafer\n",
        "\\\n",
        "\\\n",
        "First, we can load all of the needed packages. The data is given in .txt files and is already split into train data and test data. The train data has 1000 entries and the test data has 6164 entries."
      ],
      "metadata": {
        "id": "i-yuuIerRrU6"
      }
    },
    {
      "cell_type": "code",
      "execution_count": 15,
      "metadata": {
        "colab": {
          "base_uri": "https://localhost:8080/",
          "height": 52
        },
        "id": "7wu8bfvGagKU",
        "outputId": "f4f22b47-743b-4c0e-dd65-f4d4f4e894a8"
      },
      "outputs": [
        {
          "output_type": "display_data",
          "data": {
            "text/html": [
              "<style>\n",
              ".list-inline {list-style: none; margin:0; padding: 0}\n",
              ".list-inline>li {display: inline-block}\n",
              ".list-inline>li:not(:last-child)::after {content: \"\\00b7\"; padding: 0 .5ex}\n",
              "</style>\n",
              "<ol class=list-inline><li>1000</li><li>153</li></ol>\n"
            ],
            "text/markdown": "1. 1000\n2. 153\n\n\n",
            "text/latex": "\\begin{enumerate*}\n\\item 1000\n\\item 153\n\\end{enumerate*}\n",
            "text/plain": [
              "[1] 1000  153"
            ]
          },
          "metadata": {}
        },
        {
          "output_type": "display_data",
          "data": {
            "text/html": [
              "<style>\n",
              ".list-inline {list-style: none; margin:0; padding: 0}\n",
              ".list-inline>li {display: inline-block}\n",
              ".list-inline>li:not(:last-child)::after {content: \"\\00b7\"; padding: 0 .5ex}\n",
              "</style>\n",
              "<ol class=list-inline><li>6164</li><li>153</li></ol>\n"
            ],
            "text/markdown": "1. 6164\n2. 153\n\n\n",
            "text/latex": "\\begin{enumerate*}\n\\item 6164\n\\item 153\n\\end{enumerate*}\n",
            "text/plain": [
              "[1] 6164  153"
            ]
          },
          "metadata": {}
        }
      ],
      "source": [
        "#install.packages(\"kknn\")\n",
        "#install.packages(\"caret\")\n",
        "#install.packages('naivebayes')\n",
        "library(tidyverse);\n",
        "library(kknn)\n",
        "library(caret) #useful for confusionMatrix\n",
        "library(naivebayes)\n",
        "\n",
        "trainData = read.table(\"Wafer_TRAIN.txt\", header = FALSE, sep = \"\", dec = \".\")\n",
        "testData = read.table(\"Wafer_TEST.txt\", header = FALSE, sep = \"\", dec = \".\") #reading txt files to data frame\n",
        "\n",
        "dim(trainData)\n",
        "dim(testData) #show dimension of data frames"
      ]
    },
    {
      "cell_type": "markdown",
      "source": [
        "Next, we can view some of the data. All of the variables are currently numerical doubles. This makes sense for variables V2 to V153. Since our dependent/response variable is binary (1 and -1), we need to convert it to be categorical. Remember, 1 is for wafers that were deemed normal and -1 for abnormal."
      ],
      "metadata": {
        "id": "JY-B3oGwW8Pa"
      }
    },
    {
      "cell_type": "code",
      "source": [
        "head(trainData)\n",
        "head(testData)"
      ],
      "metadata": {
        "colab": {
          "base_uri": "https://localhost:8080/",
          "height": 575
        },
        "id": "yQRvihuoL0fO",
        "outputId": "6d2d8319-a692-4f52-a1bd-35738ab67445"
      },
      "execution_count": 16,
      "outputs": [
        {
          "output_type": "display_data",
          "data": {
            "text/html": [
              "<table class=\"dataframe\">\n",
              "<caption>A data.frame: 6 × 153</caption>\n",
              "<thead>\n",
              "\t<tr><th></th><th scope=col>V1</th><th scope=col>V2</th><th scope=col>V3</th><th scope=col>V4</th><th scope=col>V5</th><th scope=col>V6</th><th scope=col>V7</th><th scope=col>V8</th><th scope=col>V9</th><th scope=col>V10</th><th scope=col>⋯</th><th scope=col>V144</th><th scope=col>V145</th><th scope=col>V146</th><th scope=col>V147</th><th scope=col>V148</th><th scope=col>V149</th><th scope=col>V150</th><th scope=col>V151</th><th scope=col>V152</th><th scope=col>V153</th></tr>\n",
              "\t<tr><th></th><th scope=col>&lt;dbl&gt;</th><th scope=col>&lt;dbl&gt;</th><th scope=col>&lt;dbl&gt;</th><th scope=col>&lt;dbl&gt;</th><th scope=col>&lt;dbl&gt;</th><th scope=col>&lt;dbl&gt;</th><th scope=col>&lt;dbl&gt;</th><th scope=col>&lt;dbl&gt;</th><th scope=col>&lt;dbl&gt;</th><th scope=col>&lt;dbl&gt;</th><th scope=col>⋯</th><th scope=col>&lt;dbl&gt;</th><th scope=col>&lt;dbl&gt;</th><th scope=col>&lt;dbl&gt;</th><th scope=col>&lt;dbl&gt;</th><th scope=col>&lt;dbl&gt;</th><th scope=col>&lt;dbl&gt;</th><th scope=col>&lt;dbl&gt;</th><th scope=col>&lt;dbl&gt;</th><th scope=col>&lt;dbl&gt;</th><th scope=col>&lt;dbl&gt;</th></tr>\n",
              "</thead>\n",
              "<tbody>\n",
              "\t<tr><th scope=row>1</th><td>1</td><td>-1.6022936</td><td>-1.6708228</td><td>-1.6936659</td><td>-1.6993767</td><td>-1.6993767</td><td>-1.7036597</td><td>-1.7036597</td><td>-1.7036597</td><td>-1.7036597</td><td>⋯</td><td>-1.1454320</td><td>-1.1454320</td><td>-1.1454320</td><td>-1.1454320</td><td>-1.1454320</td><td>-1.1454320</td><td>-1.1454320</td><td>-1.1454320</td><td>-1.1454320</td><td>-1.1454320</td></tr>\n",
              "\t<tr><th scope=row>2</th><td>1</td><td> 1.0845914</td><td> 1.0845914</td><td> 1.0845914</td><td> 1.0653076</td><td> 1.0653076</td><td> 1.0653076</td><td> 1.0653076</td><td> 1.0653076</td><td> 1.0653076</td><td>⋯</td><td> 1.0653076</td><td> 1.0653076</td><td> 1.0653076</td><td> 1.0653076</td><td> 1.0653076</td><td> 1.0653076</td><td> 1.0653076</td><td> 1.0653076</td><td> 1.0653076</td><td> 1.0653076</td></tr>\n",
              "\t<tr><th scope=row>3</th><td>1</td><td> 0.3626885</td><td> 0.3626885</td><td> 0.3626885</td><td> 0.3933156</td><td> 0.3626885</td><td> 0.3626885</td><td> 0.3626885</td><td> 0.3626885</td><td> 0.3626885</td><td>⋯</td><td> 0.3933156</td><td> 0.3933156</td><td> 0.3933156</td><td> 0.3626885</td><td> 0.3933156</td><td> 0.3933156</td><td> 0.3933156</td><td> 0.3933156</td><td> 0.3933156</td><td> 0.3933156</td></tr>\n",
              "\t<tr><th scope=row>4</th><td>1</td><td>-1.0945235</td><td>-1.0945235</td><td>-1.0945235</td><td>-1.0967319</td><td>-1.0945235</td><td>-1.0967319</td><td>-1.0945235</td><td>-1.0945235</td><td>-1.0945235</td><td>⋯</td><td>-1.0967319</td><td>-1.0967319</td><td>-1.0967319</td><td>-1.0967319</td><td>-1.0967319</td><td>-1.0967319</td><td>-1.0967319</td><td>-1.0967319</td><td>-1.0967319</td><td>-1.0967319</td></tr>\n",
              "\t<tr><th scope=row>5</th><td>1</td><td>-1.1037610</td><td>-1.1037610</td><td>-1.1037610</td><td>-1.1037610</td><td>-1.1037610</td><td>-1.1037610</td><td>-1.1037610</td><td>-1.1037610</td><td>-1.1037610</td><td>⋯</td><td>-1.1037610</td><td>-1.1037610</td><td>-1.1037610</td><td>-1.1037610</td><td>-1.1037610</td><td>-1.1037610</td><td>-1.1037610</td><td>-1.1037610</td><td>-1.1037610</td><td>-1.1037610</td></tr>\n",
              "\t<tr><th scope=row>6</th><td>1</td><td> 0.4250210</td><td> 0.4250210</td><td> 0.4562153</td><td> 0.4250210</td><td> 0.4250210</td><td> 0.4250210</td><td> 0.4250210</td><td> 0.4250210</td><td> 0.4250210</td><td>⋯</td><td> 0.4250210</td><td> 0.4250210</td><td> 0.4250210</td><td> 0.4250210</td><td> 0.4250210</td><td> 0.4250210</td><td> 0.4250210</td><td> 0.4250210</td><td> 0.4250210</td><td> 0.4250210</td></tr>\n",
              "</tbody>\n",
              "</table>\n"
            ],
            "text/markdown": "\nA data.frame: 6 × 153\n\n| <!--/--> | V1 &lt;dbl&gt; | V2 &lt;dbl&gt; | V3 &lt;dbl&gt; | V4 &lt;dbl&gt; | V5 &lt;dbl&gt; | V6 &lt;dbl&gt; | V7 &lt;dbl&gt; | V8 &lt;dbl&gt; | V9 &lt;dbl&gt; | V10 &lt;dbl&gt; | ⋯ ⋯ | V144 &lt;dbl&gt; | V145 &lt;dbl&gt; | V146 &lt;dbl&gt; | V147 &lt;dbl&gt; | V148 &lt;dbl&gt; | V149 &lt;dbl&gt; | V150 &lt;dbl&gt; | V151 &lt;dbl&gt; | V152 &lt;dbl&gt; | V153 &lt;dbl&gt; |\n|---|---|---|---|---|---|---|---|---|---|---|---|---|---|---|---|---|---|---|---|---|---|\n| 1 | 1 | -1.6022936 | -1.6708228 | -1.6936659 | -1.6993767 | -1.6993767 | -1.7036597 | -1.7036597 | -1.7036597 | -1.7036597 | ⋯ | -1.1454320 | -1.1454320 | -1.1454320 | -1.1454320 | -1.1454320 | -1.1454320 | -1.1454320 | -1.1454320 | -1.1454320 | -1.1454320 |\n| 2 | 1 |  1.0845914 |  1.0845914 |  1.0845914 |  1.0653076 |  1.0653076 |  1.0653076 |  1.0653076 |  1.0653076 |  1.0653076 | ⋯ |  1.0653076 |  1.0653076 |  1.0653076 |  1.0653076 |  1.0653076 |  1.0653076 |  1.0653076 |  1.0653076 |  1.0653076 |  1.0653076 |\n| 3 | 1 |  0.3626885 |  0.3626885 |  0.3626885 |  0.3933156 |  0.3626885 |  0.3626885 |  0.3626885 |  0.3626885 |  0.3626885 | ⋯ |  0.3933156 |  0.3933156 |  0.3933156 |  0.3626885 |  0.3933156 |  0.3933156 |  0.3933156 |  0.3933156 |  0.3933156 |  0.3933156 |\n| 4 | 1 | -1.0945235 | -1.0945235 | -1.0945235 | -1.0967319 | -1.0945235 | -1.0967319 | -1.0945235 | -1.0945235 | -1.0945235 | ⋯ | -1.0967319 | -1.0967319 | -1.0967319 | -1.0967319 | -1.0967319 | -1.0967319 | -1.0967319 | -1.0967319 | -1.0967319 | -1.0967319 |\n| 5 | 1 | -1.1037610 | -1.1037610 | -1.1037610 | -1.1037610 | -1.1037610 | -1.1037610 | -1.1037610 | -1.1037610 | -1.1037610 | ⋯ | -1.1037610 | -1.1037610 | -1.1037610 | -1.1037610 | -1.1037610 | -1.1037610 | -1.1037610 | -1.1037610 | -1.1037610 | -1.1037610 |\n| 6 | 1 |  0.4250210 |  0.4250210 |  0.4562153 |  0.4250210 |  0.4250210 |  0.4250210 |  0.4250210 |  0.4250210 |  0.4250210 | ⋯ |  0.4250210 |  0.4250210 |  0.4250210 |  0.4250210 |  0.4250210 |  0.4250210 |  0.4250210 |  0.4250210 |  0.4250210 |  0.4250210 |\n\n",
            "text/latex": "A data.frame: 6 × 153\n\\begin{tabular}{r|lllllllllllllllllllll}\n  & V1 & V2 & V3 & V4 & V5 & V6 & V7 & V8 & V9 & V10 & ⋯ & V144 & V145 & V146 & V147 & V148 & V149 & V150 & V151 & V152 & V153\\\\\n  & <dbl> & <dbl> & <dbl> & <dbl> & <dbl> & <dbl> & <dbl> & <dbl> & <dbl> & <dbl> & ⋯ & <dbl> & <dbl> & <dbl> & <dbl> & <dbl> & <dbl> & <dbl> & <dbl> & <dbl> & <dbl>\\\\\n\\hline\n\t1 & 1 & -1.6022936 & -1.6708228 & -1.6936659 & -1.6993767 & -1.6993767 & -1.7036597 & -1.7036597 & -1.7036597 & -1.7036597 & ⋯ & -1.1454320 & -1.1454320 & -1.1454320 & -1.1454320 & -1.1454320 & -1.1454320 & -1.1454320 & -1.1454320 & -1.1454320 & -1.1454320\\\\\n\t2 & 1 &  1.0845914 &  1.0845914 &  1.0845914 &  1.0653076 &  1.0653076 &  1.0653076 &  1.0653076 &  1.0653076 &  1.0653076 & ⋯ &  1.0653076 &  1.0653076 &  1.0653076 &  1.0653076 &  1.0653076 &  1.0653076 &  1.0653076 &  1.0653076 &  1.0653076 &  1.0653076\\\\\n\t3 & 1 &  0.3626885 &  0.3626885 &  0.3626885 &  0.3933156 &  0.3626885 &  0.3626885 &  0.3626885 &  0.3626885 &  0.3626885 & ⋯ &  0.3933156 &  0.3933156 &  0.3933156 &  0.3626885 &  0.3933156 &  0.3933156 &  0.3933156 &  0.3933156 &  0.3933156 &  0.3933156\\\\\n\t4 & 1 & -1.0945235 & -1.0945235 & -1.0945235 & -1.0967319 & -1.0945235 & -1.0967319 & -1.0945235 & -1.0945235 & -1.0945235 & ⋯ & -1.0967319 & -1.0967319 & -1.0967319 & -1.0967319 & -1.0967319 & -1.0967319 & -1.0967319 & -1.0967319 & -1.0967319 & -1.0967319\\\\\n\t5 & 1 & -1.1037610 & -1.1037610 & -1.1037610 & -1.1037610 & -1.1037610 & -1.1037610 & -1.1037610 & -1.1037610 & -1.1037610 & ⋯ & -1.1037610 & -1.1037610 & -1.1037610 & -1.1037610 & -1.1037610 & -1.1037610 & -1.1037610 & -1.1037610 & -1.1037610 & -1.1037610\\\\\n\t6 & 1 &  0.4250210 &  0.4250210 &  0.4562153 &  0.4250210 &  0.4250210 &  0.4250210 &  0.4250210 &  0.4250210 &  0.4250210 & ⋯ &  0.4250210 &  0.4250210 &  0.4250210 &  0.4250210 &  0.4250210 &  0.4250210 &  0.4250210 &  0.4250210 &  0.4250210 &  0.4250210\\\\\n\\end{tabular}\n",
            "text/plain": [
              "  V1 V2         V3         V4         V5         V6         V7        \n",
              "1 1  -1.6022936 -1.6708228 -1.6936659 -1.6993767 -1.6993767 -1.7036597\n",
              "2 1   1.0845914  1.0845914  1.0845914  1.0653076  1.0653076  1.0653076\n",
              "3 1   0.3626885  0.3626885  0.3626885  0.3933156  0.3626885  0.3626885\n",
              "4 1  -1.0945235 -1.0945235 -1.0945235 -1.0967319 -1.0945235 -1.0967319\n",
              "5 1  -1.1037610 -1.1037610 -1.1037610 -1.1037610 -1.1037610 -1.1037610\n",
              "6 1   0.4250210  0.4250210  0.4562153  0.4250210  0.4250210  0.4250210\n",
              "  V8         V9         V10        ⋯ V144       V145       V146      \n",
              "1 -1.7036597 -1.7036597 -1.7036597 ⋯ -1.1454320 -1.1454320 -1.1454320\n",
              "2  1.0653076  1.0653076  1.0653076 ⋯  1.0653076  1.0653076  1.0653076\n",
              "3  0.3626885  0.3626885  0.3626885 ⋯  0.3933156  0.3933156  0.3933156\n",
              "4 -1.0945235 -1.0945235 -1.0945235 ⋯ -1.0967319 -1.0967319 -1.0967319\n",
              "5 -1.1037610 -1.1037610 -1.1037610 ⋯ -1.1037610 -1.1037610 -1.1037610\n",
              "6  0.4250210  0.4250210  0.4250210 ⋯  0.4250210  0.4250210  0.4250210\n",
              "  V147       V148       V149       V150       V151       V152       V153      \n",
              "1 -1.1454320 -1.1454320 -1.1454320 -1.1454320 -1.1454320 -1.1454320 -1.1454320\n",
              "2  1.0653076  1.0653076  1.0653076  1.0653076  1.0653076  1.0653076  1.0653076\n",
              "3  0.3626885  0.3933156  0.3933156  0.3933156  0.3933156  0.3933156  0.3933156\n",
              "4 -1.0967319 -1.0967319 -1.0967319 -1.0967319 -1.0967319 -1.0967319 -1.0967319\n",
              "5 -1.1037610 -1.1037610 -1.1037610 -1.1037610 -1.1037610 -1.1037610 -1.1037610\n",
              "6  0.4250210  0.4250210  0.4250210  0.4250210  0.4250210  0.4250210  0.4250210"
            ]
          },
          "metadata": {}
        },
        {
          "output_type": "display_data",
          "data": {
            "text/html": [
              "<table class=\"dataframe\">\n",
              "<caption>A data.frame: 6 × 153</caption>\n",
              "<thead>\n",
              "\t<tr><th></th><th scope=col>V1</th><th scope=col>V2</th><th scope=col>V3</th><th scope=col>V4</th><th scope=col>V5</th><th scope=col>V6</th><th scope=col>V7</th><th scope=col>V8</th><th scope=col>V9</th><th scope=col>V10</th><th scope=col>⋯</th><th scope=col>V144</th><th scope=col>V145</th><th scope=col>V146</th><th scope=col>V147</th><th scope=col>V148</th><th scope=col>V149</th><th scope=col>V150</th><th scope=col>V151</th><th scope=col>V152</th><th scope=col>V153</th></tr>\n",
              "\t<tr><th></th><th scope=col>&lt;dbl&gt;</th><th scope=col>&lt;dbl&gt;</th><th scope=col>&lt;dbl&gt;</th><th scope=col>&lt;dbl&gt;</th><th scope=col>&lt;dbl&gt;</th><th scope=col>&lt;dbl&gt;</th><th scope=col>&lt;dbl&gt;</th><th scope=col>&lt;dbl&gt;</th><th scope=col>&lt;dbl&gt;</th><th scope=col>&lt;dbl&gt;</th><th scope=col>⋯</th><th scope=col>&lt;dbl&gt;</th><th scope=col>&lt;dbl&gt;</th><th scope=col>&lt;dbl&gt;</th><th scope=col>&lt;dbl&gt;</th><th scope=col>&lt;dbl&gt;</th><th scope=col>&lt;dbl&gt;</th><th scope=col>&lt;dbl&gt;</th><th scope=col>&lt;dbl&gt;</th><th scope=col>&lt;dbl&gt;</th><th scope=col>&lt;dbl&gt;</th></tr>\n",
              "</thead>\n",
              "<tbody>\n",
              "\t<tr><th scope=row>1</th><td>1</td><td>-1.079707</td><td>-1.083256</td><td>-1.079707</td><td>-1.079707</td><td>-1.079707</td><td>-1.079707</td><td>-1.079707</td><td>-1.079707</td><td>-1.079707</td><td>⋯</td><td>-1.0797068</td><td>-1.0797068</td><td>-1.0797068</td><td>-1.0797068</td><td>-1.0797068</td><td>-1.0797068</td><td>-1.0797068</td><td>-1.0797068</td><td>-1.0797068</td><td>-1.0797068</td></tr>\n",
              "\t<tr><th scope=row>2</th><td>1</td><td>-1.080197</td><td>-1.078021</td><td>-1.078021</td><td>-1.078021</td><td>-1.078021</td><td>-1.078021</td><td>-1.080197</td><td>-1.078021</td><td>-1.078021</td><td>⋯</td><td>-1.1106696</td><td>-1.1128462</td><td>-1.1150228</td><td>-1.1171994</td><td>-1.1193760</td><td>-1.1215526</td><td>-1.1237292</td><td>-1.1259058</td><td>-1.1280824</td><td>-1.1302591</td></tr>\n",
              "\t<tr><th scope=row>3</th><td>1</td><td>-1.154060</td><td>-1.154060</td><td>-1.154060</td><td>-1.154060</td><td>-1.154060</td><td>-1.154060</td><td>-1.154060</td><td>-1.154060</td><td>-1.154060</td><td>⋯</td><td>-1.1540601</td><td>-1.1540601</td><td>-1.1540601</td><td>-1.1540601</td><td>-1.1540601</td><td>-1.1540601</td><td>-1.1540601</td><td>-1.1540601</td><td>-1.1540601</td><td>-1.1540601</td></tr>\n",
              "\t<tr><th scope=row>4</th><td>1</td><td>-1.658965</td><td>-1.696605</td><td>-1.705291</td><td>-1.711082</td><td>-1.711082</td><td>-1.715425</td><td>-1.715425</td><td>-1.715425</td><td>-1.715425</td><td>⋯</td><td>-1.1493818</td><td>-1.1493818</td><td>-1.1493818</td><td>-1.1493818</td><td>-1.1493818</td><td>-1.1493818</td><td>-1.1493818</td><td>-1.1493818</td><td>-1.1493818</td><td>-1.1493818</td></tr>\n",
              "\t<tr><th scope=row>5</th><td>1</td><td>-1.201221</td><td>-1.199042</td><td>-1.199042</td><td>-1.201221</td><td>-1.199042</td><td>-1.199042</td><td>-1.199042</td><td>-1.199042</td><td>-1.199042</td><td>⋯</td><td>-1.1859678</td><td>-1.1837887</td><td>-1.1816096</td><td>-1.1794305</td><td>-1.1772515</td><td>-1.1750724</td><td>-1.1728933</td><td>-1.1707142</td><td>-1.1685351</td><td>-1.1663560</td></tr>\n",
              "\t<tr><th scope=row>6</th><td>1</td><td>-1.488544</td><td>-1.519276</td><td>-1.527657</td><td>-1.533245</td><td>-1.537436</td><td>-1.537436</td><td>-1.537436</td><td>-1.533245</td><td>-1.537436</td><td>⋯</td><td>-0.9968258</td><td>-0.9968258</td><td>-0.9968258</td><td>-0.9968258</td><td>-0.9968258</td><td>-0.9968258</td><td>-0.9968258</td><td>-0.9968258</td><td>-0.9968258</td><td>-0.9968258</td></tr>\n",
              "</tbody>\n",
              "</table>\n"
            ],
            "text/markdown": "\nA data.frame: 6 × 153\n\n| <!--/--> | V1 &lt;dbl&gt; | V2 &lt;dbl&gt; | V3 &lt;dbl&gt; | V4 &lt;dbl&gt; | V5 &lt;dbl&gt; | V6 &lt;dbl&gt; | V7 &lt;dbl&gt; | V8 &lt;dbl&gt; | V9 &lt;dbl&gt; | V10 &lt;dbl&gt; | ⋯ ⋯ | V144 &lt;dbl&gt; | V145 &lt;dbl&gt; | V146 &lt;dbl&gt; | V147 &lt;dbl&gt; | V148 &lt;dbl&gt; | V149 &lt;dbl&gt; | V150 &lt;dbl&gt; | V151 &lt;dbl&gt; | V152 &lt;dbl&gt; | V153 &lt;dbl&gt; |\n|---|---|---|---|---|---|---|---|---|---|---|---|---|---|---|---|---|---|---|---|---|---|\n| 1 | 1 | -1.079707 | -1.083256 | -1.079707 | -1.079707 | -1.079707 | -1.079707 | -1.079707 | -1.079707 | -1.079707 | ⋯ | -1.0797068 | -1.0797068 | -1.0797068 | -1.0797068 | -1.0797068 | -1.0797068 | -1.0797068 | -1.0797068 | -1.0797068 | -1.0797068 |\n| 2 | 1 | -1.080197 | -1.078021 | -1.078021 | -1.078021 | -1.078021 | -1.078021 | -1.080197 | -1.078021 | -1.078021 | ⋯ | -1.1106696 | -1.1128462 | -1.1150228 | -1.1171994 | -1.1193760 | -1.1215526 | -1.1237292 | -1.1259058 | -1.1280824 | -1.1302591 |\n| 3 | 1 | -1.154060 | -1.154060 | -1.154060 | -1.154060 | -1.154060 | -1.154060 | -1.154060 | -1.154060 | -1.154060 | ⋯ | -1.1540601 | -1.1540601 | -1.1540601 | -1.1540601 | -1.1540601 | -1.1540601 | -1.1540601 | -1.1540601 | -1.1540601 | -1.1540601 |\n| 4 | 1 | -1.658965 | -1.696605 | -1.705291 | -1.711082 | -1.711082 | -1.715425 | -1.715425 | -1.715425 | -1.715425 | ⋯ | -1.1493818 | -1.1493818 | -1.1493818 | -1.1493818 | -1.1493818 | -1.1493818 | -1.1493818 | -1.1493818 | -1.1493818 | -1.1493818 |\n| 5 | 1 | -1.201221 | -1.199042 | -1.199042 | -1.201221 | -1.199042 | -1.199042 | -1.199042 | -1.199042 | -1.199042 | ⋯ | -1.1859678 | -1.1837887 | -1.1816096 | -1.1794305 | -1.1772515 | -1.1750724 | -1.1728933 | -1.1707142 | -1.1685351 | -1.1663560 |\n| 6 | 1 | -1.488544 | -1.519276 | -1.527657 | -1.533245 | -1.537436 | -1.537436 | -1.537436 | -1.533245 | -1.537436 | ⋯ | -0.9968258 | -0.9968258 | -0.9968258 | -0.9968258 | -0.9968258 | -0.9968258 | -0.9968258 | -0.9968258 | -0.9968258 | -0.9968258 |\n\n",
            "text/latex": "A data.frame: 6 × 153\n\\begin{tabular}{r|lllllllllllllllllllll}\n  & V1 & V2 & V3 & V4 & V5 & V6 & V7 & V8 & V9 & V10 & ⋯ & V144 & V145 & V146 & V147 & V148 & V149 & V150 & V151 & V152 & V153\\\\\n  & <dbl> & <dbl> & <dbl> & <dbl> & <dbl> & <dbl> & <dbl> & <dbl> & <dbl> & <dbl> & ⋯ & <dbl> & <dbl> & <dbl> & <dbl> & <dbl> & <dbl> & <dbl> & <dbl> & <dbl> & <dbl>\\\\\n\\hline\n\t1 & 1 & -1.079707 & -1.083256 & -1.079707 & -1.079707 & -1.079707 & -1.079707 & -1.079707 & -1.079707 & -1.079707 & ⋯ & -1.0797068 & -1.0797068 & -1.0797068 & -1.0797068 & -1.0797068 & -1.0797068 & -1.0797068 & -1.0797068 & -1.0797068 & -1.0797068\\\\\n\t2 & 1 & -1.080197 & -1.078021 & -1.078021 & -1.078021 & -1.078021 & -1.078021 & -1.080197 & -1.078021 & -1.078021 & ⋯ & -1.1106696 & -1.1128462 & -1.1150228 & -1.1171994 & -1.1193760 & -1.1215526 & -1.1237292 & -1.1259058 & -1.1280824 & -1.1302591\\\\\n\t3 & 1 & -1.154060 & -1.154060 & -1.154060 & -1.154060 & -1.154060 & -1.154060 & -1.154060 & -1.154060 & -1.154060 & ⋯ & -1.1540601 & -1.1540601 & -1.1540601 & -1.1540601 & -1.1540601 & -1.1540601 & -1.1540601 & -1.1540601 & -1.1540601 & -1.1540601\\\\\n\t4 & 1 & -1.658965 & -1.696605 & -1.705291 & -1.711082 & -1.711082 & -1.715425 & -1.715425 & -1.715425 & -1.715425 & ⋯ & -1.1493818 & -1.1493818 & -1.1493818 & -1.1493818 & -1.1493818 & -1.1493818 & -1.1493818 & -1.1493818 & -1.1493818 & -1.1493818\\\\\n\t5 & 1 & -1.201221 & -1.199042 & -1.199042 & -1.201221 & -1.199042 & -1.199042 & -1.199042 & -1.199042 & -1.199042 & ⋯ & -1.1859678 & -1.1837887 & -1.1816096 & -1.1794305 & -1.1772515 & -1.1750724 & -1.1728933 & -1.1707142 & -1.1685351 & -1.1663560\\\\\n\t6 & 1 & -1.488544 & -1.519276 & -1.527657 & -1.533245 & -1.537436 & -1.537436 & -1.537436 & -1.533245 & -1.537436 & ⋯ & -0.9968258 & -0.9968258 & -0.9968258 & -0.9968258 & -0.9968258 & -0.9968258 & -0.9968258 & -0.9968258 & -0.9968258 & -0.9968258\\\\\n\\end{tabular}\n",
            "text/plain": [
              "  V1 V2        V3        V4        V5        V6        V7        V8       \n",
              "1 1  -1.079707 -1.083256 -1.079707 -1.079707 -1.079707 -1.079707 -1.079707\n",
              "2 1  -1.080197 -1.078021 -1.078021 -1.078021 -1.078021 -1.078021 -1.080197\n",
              "3 1  -1.154060 -1.154060 -1.154060 -1.154060 -1.154060 -1.154060 -1.154060\n",
              "4 1  -1.658965 -1.696605 -1.705291 -1.711082 -1.711082 -1.715425 -1.715425\n",
              "5 1  -1.201221 -1.199042 -1.199042 -1.201221 -1.199042 -1.199042 -1.199042\n",
              "6 1  -1.488544 -1.519276 -1.527657 -1.533245 -1.537436 -1.537436 -1.537436\n",
              "  V9        V10       ⋯ V144       V145       V146       V147       V148      \n",
              "1 -1.079707 -1.079707 ⋯ -1.0797068 -1.0797068 -1.0797068 -1.0797068 -1.0797068\n",
              "2 -1.078021 -1.078021 ⋯ -1.1106696 -1.1128462 -1.1150228 -1.1171994 -1.1193760\n",
              "3 -1.154060 -1.154060 ⋯ -1.1540601 -1.1540601 -1.1540601 -1.1540601 -1.1540601\n",
              "4 -1.715425 -1.715425 ⋯ -1.1493818 -1.1493818 -1.1493818 -1.1493818 -1.1493818\n",
              "5 -1.199042 -1.199042 ⋯ -1.1859678 -1.1837887 -1.1816096 -1.1794305 -1.1772515\n",
              "6 -1.533245 -1.537436 ⋯ -0.9968258 -0.9968258 -0.9968258 -0.9968258 -0.9968258\n",
              "  V149       V150       V151       V152       V153      \n",
              "1 -1.0797068 -1.0797068 -1.0797068 -1.0797068 -1.0797068\n",
              "2 -1.1215526 -1.1237292 -1.1259058 -1.1280824 -1.1302591\n",
              "3 -1.1540601 -1.1540601 -1.1540601 -1.1540601 -1.1540601\n",
              "4 -1.1493818 -1.1493818 -1.1493818 -1.1493818 -1.1493818\n",
              "5 -1.1750724 -1.1728933 -1.1707142 -1.1685351 -1.1663560\n",
              "6 -0.9968258 -0.9968258 -0.9968258 -0.9968258 -0.9968258"
            ]
          },
          "metadata": {}
        }
      ]
    },
    {
      "cell_type": "markdown",
      "source": [
        "Here we convert the V1 response variable to a factor. Factors in R are a way to make data categorical. In the output we see that the \"Levels\" or categories are '-1' and '1'"
      ],
      "metadata": {
        "id": "Q_chv2oHXnKf"
      }
    },
    {
      "cell_type": "code",
      "source": [
        "trainData$V1 = as.factor(trainData$V1)\n",
        "testData$V1 = as.factor(testData$V1) #convert response variable to be categorical nominal\n",
        "trainData$V1"
      ],
      "metadata": {
        "colab": {
          "base_uri": "https://localhost:8080/",
          "height": 156
        },
        "id": "QmXi7Tk6XmW5",
        "outputId": "efc534f6-aeb9-4038-8306-a09ee1b62edd"
      },
      "execution_count": 17,
      "outputs": [
        {
          "output_type": "display_data",
          "data": {
            "text/html": [
              "<style>\n",
              ".list-inline {list-style: none; margin:0; padding: 0}\n",
              ".list-inline>li {display: inline-block}\n",
              ".list-inline>li:not(:last-child)::after {content: \"\\00b7\"; padding: 0 .5ex}\n",
              "</style>\n",
              "<ol class=list-inline><li>1</li><li>1</li><li>1</li><li>1</li><li>1</li><li>1</li><li>1</li><li>1</li><li>1</li><li>-1</li><li>1</li><li>1</li><li>1</li><li>1</li><li>-1</li><li>1</li><li>1</li><li>1</li><li>1</li><li>1</li><li>1</li><li>1</li><li>1</li><li>1</li><li>1</li><li>1</li><li>1</li><li>1</li><li>1</li><li>1</li><li>1</li><li>1</li><li>1</li><li>1</li><li>1</li><li>1</li><li>1</li><li>1</li><li>1</li><li>1</li><li>1</li><li>1</li><li>-1</li><li>1</li><li>1</li><li>1</li><li>1</li><li>1</li><li>1</li><li>1</li><li>1</li><li>1</li><li>1</li><li>1</li><li>1</li><li>-1</li><li>1</li><li>1</li><li>1</li><li>1</li><li>1</li><li>1</li><li>1</li><li>1</li><li>1</li><li>1</li><li>1</li><li>1</li><li>1</li><li>1</li><li>1</li><li>1</li><li>1</li><li>1</li><li>1</li><li>1</li><li>1</li><li>1</li><li>1</li><li>1</li><li>1</li><li>-1</li><li>-1</li><li>-1</li><li>1</li><li>1</li><li>1</li><li>1</li><li>1</li><li>1</li><li>-1</li><li>1</li><li>1</li><li>-1</li><li>1</li><li>1</li><li>1</li><li>1</li><li>1</li><li>1</li><li>1</li><li>-1</li><li>-1</li><li>-1</li><li>-1</li><li>1</li><li>1</li><li>1</li><li>1</li><li>1</li><li>1</li><li>1</li><li>1</li><li>1</li><li>1</li><li>-1</li><li>1</li><li>1</li><li>1</li><li>1</li><li>1</li><li>1</li><li>-1</li><li>1</li><li>1</li><li>1</li><li>1</li><li>1</li><li>1</li><li>-1</li><li>1</li><li>-1</li><li>1</li><li>-1</li><li>1</li><li>-1</li><li>-1</li><li>1</li><li>-1</li><li>1</li><li>1</li><li>1</li><li>1</li><li>-1</li><li>-1</li><li>1</li><li>1</li><li>1</li><li>1</li><li>1</li><li>1</li><li>1</li><li>1</li><li>1</li><li>1</li><li>1</li><li>1</li><li>-1</li><li>1</li><li>1</li><li>1</li><li>1</li><li>1</li><li>1</li><li>1</li><li>1</li><li>-1</li><li>1</li><li>1</li><li>1</li><li>1</li><li>1</li><li>1</li><li>1</li><li>-1</li><li>1</li><li>1</li><li>1</li><li>1</li><li>1</li><li>1</li><li>1</li><li>1</li><li>1</li><li>1</li><li>1</li><li>1</li><li>1</li><li>1</li><li>1</li><li>1</li><li>1</li><li>1</li><li>1</li><li>1</li><li>1</li><li>1</li><li>1</li><li>-1</li><li>1</li><li>⋯</li><li>1</li><li>1</li><li>1</li><li>1</li><li>1</li><li>1</li><li>1</li><li>-1</li><li>1</li><li>1</li><li>1</li><li>1</li><li>1</li><li>1</li><li>1</li><li>-1</li><li>1</li><li>-1</li><li>1</li><li>1</li><li>1</li><li>1</li><li>1</li><li>1</li><li>-1</li><li>1</li><li>1</li><li>1</li><li>1</li><li>1</li><li>1</li><li>1</li><li>1</li><li>1</li><li>1</li><li>-1</li><li>1</li><li>-1</li><li>1</li><li>1</li><li>1</li><li>1</li><li>1</li><li>1</li><li>1</li><li>1</li><li>1</li><li>1</li><li>1</li><li>1</li><li>1</li><li>1</li><li>1</li><li>1</li><li>1</li><li>-1</li><li>1</li><li>1</li><li>1</li><li>1</li><li>1</li><li>-1</li><li>1</li><li>-1</li><li>1</li><li>1</li><li>-1</li><li>1</li><li>1</li><li>1</li><li>1</li><li>1</li><li>1</li><li>1</li><li>1</li><li>1</li><li>1</li><li>1</li><li>1</li><li>1</li><li>1</li><li>1</li><li>1</li><li>1</li><li>1</li><li>1</li><li>1</li><li>1</li><li>1</li><li>1</li><li>1</li><li>1</li><li>1</li><li>1</li><li>1</li><li>1</li><li>1</li><li>1</li><li>1</li><li>1</li><li>1</li><li>1</li><li>1</li><li>1</li><li>1</li><li>1</li><li>1</li><li>1</li><li>1</li><li>1</li><li>1</li><li>1</li><li>1</li><li>1</li><li>1</li><li>1</li><li>1</li><li>1</li><li>1</li><li>1</li><li>1</li><li>1</li><li>1</li><li>1</li><li>1</li><li>1</li><li>1</li><li>1</li><li>1</li><li>-1</li><li>1</li><li>1</li><li>1</li><li>-1</li><li>-1</li><li>1</li><li>-1</li><li>1</li><li>1</li><li>1</li><li>1</li><li>1</li><li>1</li><li>1</li><li>1</li><li>1</li><li>1</li><li>1</li><li>1</li><li>1</li><li>1</li><li>1</li><li>1</li><li>1</li><li>1</li><li>1</li><li>1</li><li>-1</li><li>1</li><li>1</li><li>1</li><li>1</li><li>1</li><li>1</li><li>1</li><li>1</li><li>-1</li><li>1</li><li>1</li><li>1</li><li>1</li><li>1</li><li>1</li><li>1</li><li>1</li><li>1</li><li>1</li><li>1</li><li>1</li><li>-1</li><li>1</li><li>1</li><li>1</li><li>1</li><li>1</li><li>-1</li><li>1</li><li>1</li><li>-1</li><li>-1</li><li>1</li><li>1</li><li>1</li><li>1</li><li>1</li><li>1</li><li>1</li><li>-1</li><li>1</li><li>1</li></ol>\n",
              "\n",
              "<details>\n",
              "\t<summary style=display:list-item;cursor:pointer>\n",
              "\t\t<strong>Levels</strong>:\n",
              "\t</summary>\n",
              "\t<style>\n",
              "\t.list-inline {list-style: none; margin:0; padding: 0}\n",
              "\t.list-inline>li {display: inline-block}\n",
              "\t.list-inline>li:not(:last-child)::after {content: \"\\00b7\"; padding: 0 .5ex}\n",
              "\t</style>\n",
              "\t<ol class=list-inline><li>'-1'</li><li>'1'</li></ol>\n",
              "</details>"
            ],
            "text/markdown": "1. 1\n2. 1\n3. 1\n4. 1\n5. 1\n6. 1\n7. 1\n8. 1\n9. 1\n10. -1\n11. 1\n12. 1\n13. 1\n14. 1\n15. -1\n16. 1\n17. 1\n18. 1\n19. 1\n20. 1\n21. 1\n22. 1\n23. 1\n24. 1\n25. 1\n26. 1\n27. 1\n28. 1\n29. 1\n30. 1\n31. 1\n32. 1\n33. 1\n34. 1\n35. 1\n36. 1\n37. 1\n38. 1\n39. 1\n40. 1\n41. 1\n42. 1\n43. -1\n44. 1\n45. 1\n46. 1\n47. 1\n48. 1\n49. 1\n50. 1\n51. 1\n52. 1\n53. 1\n54. 1\n55. 1\n56. -1\n57. 1\n58. 1\n59. 1\n60. 1\n61. 1\n62. 1\n63. 1\n64. 1\n65. 1\n66. 1\n67. 1\n68. 1\n69. 1\n70. 1\n71. 1\n72. 1\n73. 1\n74. 1\n75. 1\n76. 1\n77. 1\n78. 1\n79. 1\n80. 1\n81. 1\n82. -1\n83. -1\n84. -1\n85. 1\n86. 1\n87. 1\n88. 1\n89. 1\n90. 1\n91. -1\n92. 1\n93. 1\n94. -1\n95. 1\n96. 1\n97. 1\n98. 1\n99. 1\n100. 1\n101. 1\n102. -1\n103. -1\n104. -1\n105. -1\n106. 1\n107. 1\n108. 1\n109. 1\n110. 1\n111. 1\n112. 1\n113. 1\n114. 1\n115. 1\n116. -1\n117. 1\n118. 1\n119. 1\n120. 1\n121. 1\n122. 1\n123. -1\n124. 1\n125. 1\n126. 1\n127. 1\n128. 1\n129. 1\n130. -1\n131. 1\n132. -1\n133. 1\n134. -1\n135. 1\n136. -1\n137. -1\n138. 1\n139. -1\n140. 1\n141. 1\n142. 1\n143. 1\n144. -1\n145. -1\n146. 1\n147. 1\n148. 1\n149. 1\n150. 1\n151. 1\n152. 1\n153. 1\n154. 1\n155. 1\n156. 1\n157. 1\n158. -1\n159. 1\n160. 1\n161. 1\n162. 1\n163. 1\n164. 1\n165. 1\n166. 1\n167. -1\n168. 1\n169. 1\n170. 1\n171. 1\n172. 1\n173. 1\n174. 1\n175. -1\n176. 1\n177. 1\n178. 1\n179. 1\n180. 1\n181. 1\n182. 1\n183. 1\n184. 1\n185. 1\n186. 1\n187. 1\n188. 1\n189. 1\n190. 1\n191. 1\n192. 1\n193. 1\n194. 1\n195. 1\n196. 1\n197. 1\n198. 1\n199. -1\n200. 1\n201. ⋯\n202. 1\n203. 1\n204. 1\n205. 1\n206. 1\n207. 1\n208. 1\n209. -1\n210. 1\n211. 1\n212. 1\n213. 1\n214. 1\n215. 1\n216. 1\n217. -1\n218. 1\n219. -1\n220. 1\n221. 1\n222. 1\n223. 1\n224. 1\n225. 1\n226. -1\n227. 1\n228. 1\n229. 1\n230. 1\n231. 1\n232. 1\n233. 1\n234. 1\n235. 1\n236. 1\n237. -1\n238. 1\n239. -1\n240. 1\n241. 1\n242. 1\n243. 1\n244. 1\n245. 1\n246. 1\n247. 1\n248. 1\n249. 1\n250. 1\n251. 1\n252. 1\n253. 1\n254. 1\n255. 1\n256. 1\n257. -1\n258. 1\n259. 1\n260. 1\n261. 1\n262. 1\n263. -1\n264. 1\n265. -1\n266. 1\n267. 1\n268. -1\n269. 1\n270. 1\n271. 1\n272. 1\n273. 1\n274. 1\n275. 1\n276. 1\n277. 1\n278. 1\n279. 1\n280. 1\n281. 1\n282. 1\n283. 1\n284. 1\n285. 1\n286. 1\n287. 1\n288. 1\n289. 1\n290. 1\n291. 1\n292. 1\n293. 1\n294. 1\n295. 1\n296. 1\n297. 1\n298. 1\n299. 1\n300. 1\n301. 1\n302. 1\n303. 1\n304. 1\n305. 1\n306. 1\n307. 1\n308. 1\n309. 1\n310. 1\n311. 1\n312. 1\n313. 1\n314. 1\n315. 1\n316. 1\n317. 1\n318. 1\n319. 1\n320. 1\n321. 1\n322. 1\n323. 1\n324. 1\n325. 1\n326. 1\n327. 1\n328. 1\n329. 1\n330. 1\n331. -1\n332. 1\n333. 1\n334. 1\n335. -1\n336. -1\n337. 1\n338. -1\n339. 1\n340. 1\n341. 1\n342. 1\n343. 1\n344. 1\n345. 1\n346. 1\n347. 1\n348. 1\n349. 1\n350. 1\n351. 1\n352. 1\n353. 1\n354. 1\n355. 1\n356. 1\n357. 1\n358. 1\n359. -1\n360. 1\n361. 1\n362. 1\n363. 1\n364. 1\n365. 1\n366. 1\n367. 1\n368. -1\n369. 1\n370. 1\n371. 1\n372. 1\n373. 1\n374. 1\n375. 1\n376. 1\n377. 1\n378. 1\n379. 1\n380. 1\n381. -1\n382. 1\n383. 1\n384. 1\n385. 1\n386. 1\n387. -1\n388. 1\n389. 1\n390. -1\n391. -1\n392. 1\n393. 1\n394. 1\n395. 1\n396. 1\n397. 1\n398. 1\n399. -1\n400. 1\n401. 1\n\n\n\n**Levels**: 1. '-1'\n2. '1'\n\n\n",
            "text/latex": "\\begin{enumerate*}\n\\item 1\n\\item 1\n\\item 1\n\\item 1\n\\item 1\n\\item 1\n\\item 1\n\\item 1\n\\item 1\n\\item -1\n\\item 1\n\\item 1\n\\item 1\n\\item 1\n\\item -1\n\\item 1\n\\item 1\n\\item 1\n\\item 1\n\\item 1\n\\item 1\n\\item 1\n\\item 1\n\\item 1\n\\item 1\n\\item 1\n\\item 1\n\\item 1\n\\item 1\n\\item 1\n\\item 1\n\\item 1\n\\item 1\n\\item 1\n\\item 1\n\\item 1\n\\item 1\n\\item 1\n\\item 1\n\\item 1\n\\item 1\n\\item 1\n\\item -1\n\\item 1\n\\item 1\n\\item 1\n\\item 1\n\\item 1\n\\item 1\n\\item 1\n\\item 1\n\\item 1\n\\item 1\n\\item 1\n\\item 1\n\\item -1\n\\item 1\n\\item 1\n\\item 1\n\\item 1\n\\item 1\n\\item 1\n\\item 1\n\\item 1\n\\item 1\n\\item 1\n\\item 1\n\\item 1\n\\item 1\n\\item 1\n\\item 1\n\\item 1\n\\item 1\n\\item 1\n\\item 1\n\\item 1\n\\item 1\n\\item 1\n\\item 1\n\\item 1\n\\item 1\n\\item -1\n\\item -1\n\\item -1\n\\item 1\n\\item 1\n\\item 1\n\\item 1\n\\item 1\n\\item 1\n\\item -1\n\\item 1\n\\item 1\n\\item -1\n\\item 1\n\\item 1\n\\item 1\n\\item 1\n\\item 1\n\\item 1\n\\item 1\n\\item -1\n\\item -1\n\\item -1\n\\item -1\n\\item 1\n\\item 1\n\\item 1\n\\item 1\n\\item 1\n\\item 1\n\\item 1\n\\item 1\n\\item 1\n\\item 1\n\\item -1\n\\item 1\n\\item 1\n\\item 1\n\\item 1\n\\item 1\n\\item 1\n\\item -1\n\\item 1\n\\item 1\n\\item 1\n\\item 1\n\\item 1\n\\item 1\n\\item -1\n\\item 1\n\\item -1\n\\item 1\n\\item -1\n\\item 1\n\\item -1\n\\item -1\n\\item 1\n\\item -1\n\\item 1\n\\item 1\n\\item 1\n\\item 1\n\\item -1\n\\item -1\n\\item 1\n\\item 1\n\\item 1\n\\item 1\n\\item 1\n\\item 1\n\\item 1\n\\item 1\n\\item 1\n\\item 1\n\\item 1\n\\item 1\n\\item -1\n\\item 1\n\\item 1\n\\item 1\n\\item 1\n\\item 1\n\\item 1\n\\item 1\n\\item 1\n\\item -1\n\\item 1\n\\item 1\n\\item 1\n\\item 1\n\\item 1\n\\item 1\n\\item 1\n\\item -1\n\\item 1\n\\item 1\n\\item 1\n\\item 1\n\\item 1\n\\item 1\n\\item 1\n\\item 1\n\\item 1\n\\item 1\n\\item 1\n\\item 1\n\\item 1\n\\item 1\n\\item 1\n\\item 1\n\\item 1\n\\item 1\n\\item 1\n\\item 1\n\\item 1\n\\item 1\n\\item 1\n\\item -1\n\\item 1\n\\item ⋯\n\\item 1\n\\item 1\n\\item 1\n\\item 1\n\\item 1\n\\item 1\n\\item 1\n\\item -1\n\\item 1\n\\item 1\n\\item 1\n\\item 1\n\\item 1\n\\item 1\n\\item 1\n\\item -1\n\\item 1\n\\item -1\n\\item 1\n\\item 1\n\\item 1\n\\item 1\n\\item 1\n\\item 1\n\\item -1\n\\item 1\n\\item 1\n\\item 1\n\\item 1\n\\item 1\n\\item 1\n\\item 1\n\\item 1\n\\item 1\n\\item 1\n\\item -1\n\\item 1\n\\item -1\n\\item 1\n\\item 1\n\\item 1\n\\item 1\n\\item 1\n\\item 1\n\\item 1\n\\item 1\n\\item 1\n\\item 1\n\\item 1\n\\item 1\n\\item 1\n\\item 1\n\\item 1\n\\item 1\n\\item 1\n\\item -1\n\\item 1\n\\item 1\n\\item 1\n\\item 1\n\\item 1\n\\item -1\n\\item 1\n\\item -1\n\\item 1\n\\item 1\n\\item -1\n\\item 1\n\\item 1\n\\item 1\n\\item 1\n\\item 1\n\\item 1\n\\item 1\n\\item 1\n\\item 1\n\\item 1\n\\item 1\n\\item 1\n\\item 1\n\\item 1\n\\item 1\n\\item 1\n\\item 1\n\\item 1\n\\item 1\n\\item 1\n\\item 1\n\\item 1\n\\item 1\n\\item 1\n\\item 1\n\\item 1\n\\item 1\n\\item 1\n\\item 1\n\\item 1\n\\item 1\n\\item 1\n\\item 1\n\\item 1\n\\item 1\n\\item 1\n\\item 1\n\\item 1\n\\item 1\n\\item 1\n\\item 1\n\\item 1\n\\item 1\n\\item 1\n\\item 1\n\\item 1\n\\item 1\n\\item 1\n\\item 1\n\\item 1\n\\item 1\n\\item 1\n\\item 1\n\\item 1\n\\item 1\n\\item 1\n\\item 1\n\\item 1\n\\item 1\n\\item 1\n\\item 1\n\\item 1\n\\item -1\n\\item 1\n\\item 1\n\\item 1\n\\item -1\n\\item -1\n\\item 1\n\\item -1\n\\item 1\n\\item 1\n\\item 1\n\\item 1\n\\item 1\n\\item 1\n\\item 1\n\\item 1\n\\item 1\n\\item 1\n\\item 1\n\\item 1\n\\item 1\n\\item 1\n\\item 1\n\\item 1\n\\item 1\n\\item 1\n\\item 1\n\\item 1\n\\item -1\n\\item 1\n\\item 1\n\\item 1\n\\item 1\n\\item 1\n\\item 1\n\\item 1\n\\item 1\n\\item -1\n\\item 1\n\\item 1\n\\item 1\n\\item 1\n\\item 1\n\\item 1\n\\item 1\n\\item 1\n\\item 1\n\\item 1\n\\item 1\n\\item 1\n\\item -1\n\\item 1\n\\item 1\n\\item 1\n\\item 1\n\\item 1\n\\item -1\n\\item 1\n\\item 1\n\\item -1\n\\item -1\n\\item 1\n\\item 1\n\\item 1\n\\item 1\n\\item 1\n\\item 1\n\\item 1\n\\item -1\n\\item 1\n\\item 1\n\\end{enumerate*}\n\n\\emph{Levels}: \\begin{enumerate*}\n\\item '-1'\n\\item '1'\n\\end{enumerate*}\n",
            "text/plain": [
              "   [1] 1  1  1  1  1  1  1  1  1  -1 1  1  1  1  -1 1  1  1  1  1  1  1  1  1 \n",
              "  [25] 1  1  1  1  1  1  1  1  1  1  1  1  1  1  1  1  1  1  -1 1  1  1  1  1 \n",
              "  [49] 1  1  1  1  1  1  1  -1 1  1  1  1  1  1  1  1  1  1  1  1  1  1  1  1 \n",
              "  [73] 1  1  1  1  1  1  1  1  1  -1 -1 -1 1  1  1  1  1  1  -1 1  1  -1 1  1 \n",
              "  [97] 1  1  1  1  1  -1 -1 -1 -1 1  1  1  1  1  1  1  1  1  1  -1 1  1  1  1 \n",
              " [121] 1  1  -1 1  1  1  1  1  1  -1 1  -1 1  -1 1  -1 -1 1  -1 1  1  1  1  -1\n",
              " [145] -1 1  1  1  1  1  1  1  1  1  1  1  1  -1 1  1  1  1  1  1  1  1  -1 1 \n",
              " [169] 1  1  1  1  1  1  -1 1  1  1  1  1  1  1  1  1  1  1  1  1  1  1  1  1 \n",
              " [193] 1  1  1  1  1  1  -1 1  1  1  1  1  1  1  1  -1 1  1  1  1  1  1  1  1 \n",
              " [217] 1  1  1  1  1  1  1  1  1  1  1  1  -1 1  1  -1 1  1  1  1  1  -1 1  1 \n",
              " [241] 1  1  1  1  1  1  1  1  1  1  1  1  1  1  1  1  1  1  1  1  1  1  -1 1 \n",
              " [265] 1  1  1  1  1  1  1  1  1  1  1  1  1  1  -1 1  1  1  -1 1  1  1  1  1 \n",
              " [289] 1  1  1  -1 1  1  1  1  1  1  1  1  1  1  1  1  1  1  1  1  1  1  1  1 \n",
              " [313] 1  1  1  1  1  1  1  1  1  1  -1 1  1  1  1  1  1  1  1  1  1  1  1  1 \n",
              " [337] 1  1  1  1  1  1  1  1  1  1  1  1  -1 1  1  1  1  1  1  1  1  1  1  1 \n",
              " [361] 1  1  1  1  1  1  1  -1 1  -1 1  -1 -1 1  -1 1  1  -1 1  1  1  1  1  1 \n",
              " [385] 1  1  1  1  1  1  1  1  1  1  1  -1 1  1  1  1  1  1  -1 1  1  1  1  1 \n",
              " [409] 1  1  1  1  1  1  1  1  1  1  1  1  1  1  1  1  1  1  1  1  1  -1 1  1 \n",
              " [433] -1 1  1  1  1  1  -1 1  1  1  1  -1 1  1  1  1  -1 1  1  1  1  1  1  1 \n",
              " [457] 1  1  1  1  1  1  1  1  -1 1  1  1  1  1  1  1  1  1  1  -1 1  1  -1 1 \n",
              " [481] 1  -1 1  1  1  1  1  1  1  1  1  1  1  1  1  1  1  1  1  1  1  1  1  1 \n",
              " [505] 1  1  1  1  1  1  1  1  1  1  1  1  1  1  1  1  1  1  -1 1  1  1  1  1 \n",
              " [529] 1  1  1  1  1  1  1  1  1  -1 1  -1 1  1  1  1  1  1  1  1  -1 -1 1  1 \n",
              " [553] 1  -1 -1 1  1  1  1  1  1  1  1  1  1  1  1  1  1  1  -1 1  1  1  1  1 \n",
              " [577] 1  1  1  1  1  1  1  1  1  1  1  1  -1 -1 1  1  1  1  1  1  1  1  -1 1 \n",
              " [601] 1  1  1  1  1  -1 -1 1  1  1  1  1  1  1  1  1  1  1  1  1  1  1  1  1 \n",
              " [625] 1  1  1  1  1  1  1  -1 1  1  1  1  1  1  1  1  1  1  1  -1 1  1  1  1 \n",
              " [649] 1  1  1  1  1  1  1  1  1  1  1  1  -1 1  1  1  1  1  1  -1 1  1  1  1 \n",
              " [673] 1  1  1  1  1  1  1  1  1  1  1  1  1  1  1  1  1  1  1  1  1  1  1  1 \n",
              " [697] -1 1  1  1  1  1  1  1  1  1  1  1  1  1  1  1  1  1  1  1  1  1  1  1 \n",
              " [721] 1  1  1  1  1  1  1  1  1  1  1  1  1  1  1  1  1  1  1  1  1  1  -1 1 \n",
              " [745] 1  1  1  1  1  1  1  1  1  1  1  -1 1  1  1  1  1  1  1  1  1  1  1  1 \n",
              " [769] 1  1  -1 1  1  1  1  1  1  1  1  1  1  1  1  1  1  1  1  1  1  1  1  1 \n",
              " [793] 1  1  1  -1 1  1  1  1  1  1  1  1  1  1  1  -1 1  1  1  1  1  1  1  -1\n",
              " [817] 1  -1 1  1  1  1  1  1  -1 1  1  1  1  1  1  1  1  1  1  -1 1  -1 1  1 \n",
              " [841] 1  1  1  1  1  1  1  1  1  1  1  1  1  1  1  -1 1  1  1  1  1  -1 1  -1\n",
              " [865] 1  1  -1 1  1  1  1  1  1  1  1  1  1  1  1  1  1  1  1  1  1  1  1  1 \n",
              " [889] 1  1  1  1  1  1  1  1  1  1  1  1  1  1  1  1  1  1  1  1  1  1  1  1 \n",
              " [913] 1  1  1  1  1  1  1  1  1  1  1  1  1  1  1  1  1  -1 1  1  1  -1 -1 1 \n",
              " [937] -1 1  1  1  1  1  1  1  1  1  1  1  1  1  1  1  1  1  1  1  1  -1 1  1 \n",
              " [961] 1  1  1  1  1  1  -1 1  1  1  1  1  1  1  1  1  1  1  1  -1 1  1  1  1 \n",
              " [985] 1  -1 1  1  -1 -1 1  1  1  1  1  1  1  -1 1  1 \n",
              "Levels: -1 1"
            ]
          },
          "metadata": {}
        }
      ]
    },
    {
      "cell_type": "markdown",
      "source": [
        "Above, we can notice that there are many 1's in the V1 variable and not many -1's. Here we can show the proportion of -1's in each dataset. Only about 10% of the data results in -1 or abnormal wafers."
      ],
      "metadata": {
        "id": "u5QzvN4qZV1I"
      }
    },
    {
      "cell_type": "code",
      "source": [
        "sum(trainData$V1=='-1')/nrow(trainData)\n",
        "sum(testData$V1=='-1')/nrow(testData)"
      ],
      "metadata": {
        "colab": {
          "base_uri": "https://localhost:8080/",
          "height": 52
        },
        "id": "S1wxxW0gKI0-",
        "outputId": "24a442e5-02aa-4ed4-9637-46a7ee391b44"
      },
      "execution_count": 18,
      "outputs": [
        {
          "output_type": "display_data",
          "data": {
            "text/html": [
              "0.097"
            ],
            "text/markdown": "0.097",
            "text/latex": "0.097",
            "text/plain": [
              "[1] 0.097"
            ]
          },
          "metadata": {}
        },
        {
          "output_type": "display_data",
          "data": {
            "text/html": [
              "0.107884490590526"
            ],
            "text/markdown": "0.107884490590526",
            "text/latex": "0.107884490590526",
            "text/plain": [
              "[1] 0.1078845"
            ]
          },
          "metadata": {}
        }
      ]
    },
    {
      "cell_type": "markdown",
      "source": [
        "## Data Manipulation and Analysis Using kknn()"
      ],
      "metadata": {
        "id": "3qx8QLkzdq0p"
      }
    },
    {
      "cell_type": "markdown",
      "source": [
        "Next, we can rescale the data for more consistent results. We will use this formula: $x_i\\rightarrow\\frac{x_i-\\min(x)}{\\max(x)-\\min(x)}$. Looking at the data we can see that the predictors are now all between 0 and 1."
      ],
      "metadata": {
        "id": "nq0g9pMTaOg7"
      }
    },
    {
      "cell_type": "code",
      "source": [
        "for(i in 2:ncol(trainData)){\n",
        "  trainData[,i] = (trainData[,i] - min(trainData[,i]))/(max(trainData[,i])-min(trainData[,i]))\n",
        "}\n",
        "for(i in 2:ncol(testData)){\n",
        "  testData[,i] = (testData[,i] - min(testData[,i]))/(max(testData[,i])-min(testData[,i]))\n",
        "}\n",
        "head(trainData,3)"
      ],
      "metadata": {
        "colab": {
          "base_uri": "https://localhost:8080/",
          "height": 212
        },
        "id": "0cy2cd_aWpaz",
        "outputId": "f43372ac-e766-4ed5-be14-311a5ff1f80e"
      },
      "execution_count": 19,
      "outputs": [
        {
          "output_type": "display_data",
          "data": {
            "text/html": [
              "<table class=\"dataframe\">\n",
              "<caption>A data.frame: 3 × 153</caption>\n",
              "<thead>\n",
              "\t<tr><th></th><th scope=col>V1</th><th scope=col>V2</th><th scope=col>V3</th><th scope=col>V4</th><th scope=col>V5</th><th scope=col>V6</th><th scope=col>V7</th><th scope=col>V8</th><th scope=col>V9</th><th scope=col>V10</th><th scope=col>⋯</th><th scope=col>V144</th><th scope=col>V145</th><th scope=col>V146</th><th scope=col>V147</th><th scope=col>V148</th><th scope=col>V149</th><th scope=col>V150</th><th scope=col>V151</th><th scope=col>V152</th><th scope=col>V153</th></tr>\n",
              "\t<tr><th></th><th scope=col>&lt;fct&gt;</th><th scope=col>&lt;dbl&gt;</th><th scope=col>&lt;dbl&gt;</th><th scope=col>&lt;dbl&gt;</th><th scope=col>&lt;dbl&gt;</th><th scope=col>&lt;dbl&gt;</th><th scope=col>&lt;dbl&gt;</th><th scope=col>&lt;dbl&gt;</th><th scope=col>&lt;dbl&gt;</th><th scope=col>&lt;dbl&gt;</th><th scope=col>⋯</th><th scope=col>&lt;dbl&gt;</th><th scope=col>&lt;dbl&gt;</th><th scope=col>&lt;dbl&gt;</th><th scope=col>&lt;dbl&gt;</th><th scope=col>&lt;dbl&gt;</th><th scope=col>&lt;dbl&gt;</th><th scope=col>&lt;dbl&gt;</th><th scope=col>&lt;dbl&gt;</th><th scope=col>&lt;dbl&gt;</th><th scope=col>&lt;dbl&gt;</th></tr>\n",
              "</thead>\n",
              "<tbody>\n",
              "\t<tr><th scope=row>1</th><td>1</td><td>0.1653769</td><td>0.2346507</td><td>0.2093497</td><td>0.2147464</td><td>0.2218085</td><td>0.2013754</td><td>0.2248545</td><td>0.1176004</td><td>0.05470156</td><td>⋯</td><td>0.08117956</td><td>0.08654791</td><td>0.1068764</td><td>0.1281702</td><td>0.1443307</td><td>0.1653768</td><td>0.1765412</td><td>0.1996616</td><td>0.2028182</td><td>0.2353417</td></tr>\n",
              "\t<tr><th scope=row>2</th><td>1</td><td>0.9295249</td><td>0.9363859</td><td>0.9352538</td><td>0.9303544</td><td>0.9314444</td><td>0.9346653</td><td>0.8735742</td><td>0.7895420</td><td>0.76127811</td><td>⋯</td><td>0.84843695</td><td>0.84133762</td><td>0.8381368</td><td>0.8335048</td><td>0.8319988</td><td>0.8261506</td><td>0.8273928</td><td>0.8183575</td><td>0.8255695</td><td>0.8066515</td></tr>\n",
              "\t<tr><th scope=row>3</th><td>1</td><td>0.7242163</td><td>0.7525353</td><td>0.7466348</td><td>0.7564167</td><td>0.7510969</td><td>0.7485947</td><td>0.7089631</td><td>0.6190384</td><td>0.58198595</td><td>⋯</td><td>0.61521598</td><td>0.61190641</td><td>0.6158577</td><td>0.6093348</td><td>0.6229704</td><td>0.6252972</td><td>0.6295554</td><td>0.6302943</td><td>0.6362736</td><td>0.6329922</td></tr>\n",
              "</tbody>\n",
              "</table>\n"
            ],
            "text/markdown": "\nA data.frame: 3 × 153\n\n| <!--/--> | V1 &lt;fct&gt; | V2 &lt;dbl&gt; | V3 &lt;dbl&gt; | V4 &lt;dbl&gt; | V5 &lt;dbl&gt; | V6 &lt;dbl&gt; | V7 &lt;dbl&gt; | V8 &lt;dbl&gt; | V9 &lt;dbl&gt; | V10 &lt;dbl&gt; | ⋯ ⋯ | V144 &lt;dbl&gt; | V145 &lt;dbl&gt; | V146 &lt;dbl&gt; | V147 &lt;dbl&gt; | V148 &lt;dbl&gt; | V149 &lt;dbl&gt; | V150 &lt;dbl&gt; | V151 &lt;dbl&gt; | V152 &lt;dbl&gt; | V153 &lt;dbl&gt; |\n|---|---|---|---|---|---|---|---|---|---|---|---|---|---|---|---|---|---|---|---|---|---|\n| 1 | 1 | 0.1653769 | 0.2346507 | 0.2093497 | 0.2147464 | 0.2218085 | 0.2013754 | 0.2248545 | 0.1176004 | 0.05470156 | ⋯ | 0.08117956 | 0.08654791 | 0.1068764 | 0.1281702 | 0.1443307 | 0.1653768 | 0.1765412 | 0.1996616 | 0.2028182 | 0.2353417 |\n| 2 | 1 | 0.9295249 | 0.9363859 | 0.9352538 | 0.9303544 | 0.9314444 | 0.9346653 | 0.8735742 | 0.7895420 | 0.76127811 | ⋯ | 0.84843695 | 0.84133762 | 0.8381368 | 0.8335048 | 0.8319988 | 0.8261506 | 0.8273928 | 0.8183575 | 0.8255695 | 0.8066515 |\n| 3 | 1 | 0.7242163 | 0.7525353 | 0.7466348 | 0.7564167 | 0.7510969 | 0.7485947 | 0.7089631 | 0.6190384 | 0.58198595 | ⋯ | 0.61521598 | 0.61190641 | 0.6158577 | 0.6093348 | 0.6229704 | 0.6252972 | 0.6295554 | 0.6302943 | 0.6362736 | 0.6329922 |\n\n",
            "text/latex": "A data.frame: 3 × 153\n\\begin{tabular}{r|lllllllllllllllllllll}\n  & V1 & V2 & V3 & V4 & V5 & V6 & V7 & V8 & V9 & V10 & ⋯ & V144 & V145 & V146 & V147 & V148 & V149 & V150 & V151 & V152 & V153\\\\\n  & <fct> & <dbl> & <dbl> & <dbl> & <dbl> & <dbl> & <dbl> & <dbl> & <dbl> & <dbl> & ⋯ & <dbl> & <dbl> & <dbl> & <dbl> & <dbl> & <dbl> & <dbl> & <dbl> & <dbl> & <dbl>\\\\\n\\hline\n\t1 & 1 & 0.1653769 & 0.2346507 & 0.2093497 & 0.2147464 & 0.2218085 & 0.2013754 & 0.2248545 & 0.1176004 & 0.05470156 & ⋯ & 0.08117956 & 0.08654791 & 0.1068764 & 0.1281702 & 0.1443307 & 0.1653768 & 0.1765412 & 0.1996616 & 0.2028182 & 0.2353417\\\\\n\t2 & 1 & 0.9295249 & 0.9363859 & 0.9352538 & 0.9303544 & 0.9314444 & 0.9346653 & 0.8735742 & 0.7895420 & 0.76127811 & ⋯ & 0.84843695 & 0.84133762 & 0.8381368 & 0.8335048 & 0.8319988 & 0.8261506 & 0.8273928 & 0.8183575 & 0.8255695 & 0.8066515\\\\\n\t3 & 1 & 0.7242163 & 0.7525353 & 0.7466348 & 0.7564167 & 0.7510969 & 0.7485947 & 0.7089631 & 0.6190384 & 0.58198595 & ⋯ & 0.61521598 & 0.61190641 & 0.6158577 & 0.6093348 & 0.6229704 & 0.6252972 & 0.6295554 & 0.6302943 & 0.6362736 & 0.6329922\\\\\n\\end{tabular}\n",
            "text/plain": [
              "  V1 V2        V3        V4        V5        V6        V7        V8       \n",
              "1 1  0.1653769 0.2346507 0.2093497 0.2147464 0.2218085 0.2013754 0.2248545\n",
              "2 1  0.9295249 0.9363859 0.9352538 0.9303544 0.9314444 0.9346653 0.8735742\n",
              "3 1  0.7242163 0.7525353 0.7466348 0.7564167 0.7510969 0.7485947 0.7089631\n",
              "  V9        V10        ⋯ V144       V145       V146      V147      V148     \n",
              "1 0.1176004 0.05470156 ⋯ 0.08117956 0.08654791 0.1068764 0.1281702 0.1443307\n",
              "2 0.7895420 0.76127811 ⋯ 0.84843695 0.84133762 0.8381368 0.8335048 0.8319988\n",
              "3 0.6190384 0.58198595 ⋯ 0.61521598 0.61190641 0.6158577 0.6093348 0.6229704\n",
              "  V149      V150      V151      V152      V153     \n",
              "1 0.1653768 0.1765412 0.1996616 0.2028182 0.2353417\n",
              "2 0.8261506 0.8273928 0.8183575 0.8255695 0.8066515\n",
              "3 0.6252972 0.6295554 0.6302943 0.6362736 0.6329922"
            ]
          },
          "metadata": {}
        }
      ]
    },
    {
      "cell_type": "markdown",
      "source": [
        "Now, we can perform kNN similarly to how we did in HW2. I am limiting kvec to 1:50 to decrease computation time. A change made is we are now using misclassification rate instead of RMSE. Misclassification rate is (false negatives + false positives)/(total cases). The goal is to minimize misclassification rate the same way we want to minimize RSME. We need to use misclassification rate because we are predicting a categorical output."
      ],
      "metadata": {
        "id": "strMwGXNbqmq"
      }
    },
    {
      "cell_type": "code",
      "source": [
        "kvec = 1:50\n",
        "nk=length(kvec)\n",
        "\n",
        "inMISS = rep(0,nk) #pre-allocating misclassification for in-sample data\n",
        "outMISS = rep(0,nk) #pre-allocating misclassification for out-of-sample data\n",
        "\n",
        "for(i in 1:nk){\n",
        "    kmodtr = kknn(V1 ~., train=trainData, test=trainData, k=i, kernel=\"rectangular\")\n",
        "    kmod = kknn(V1 ~., train=trainData, test=testData, k=i, kernel=\"rectangular\")\n",
        "\n",
        "     #Instead of RSME, we can use the misclassification rate\n",
        "     inMISS[i] = (table(trainData$V1,kmodtr$fitted.values)[2]+table(trainData$V1,kmodtr$fitted.values)[1,2])/sum(table(trainData$V1,kmodtr$fitted.values))\n",
        "     outMISS[i] = (table(testData$V1,kmod$fitted.values)[2]+table(testData$V1,kmod$fitted.values)[1,2])/sum(table(testData$V1,kmod$fitted.values))\n",
        "    }"
      ],
      "metadata": {
        "id": "55u9T5c-xLM9"
      },
      "execution_count": 20,
      "outputs": []
    },
    {
      "cell_type": "markdown",
      "source": [
        "We will plot misclassification rate similarly to how we printed RSME in HW2. These plots compare how misclassification rate compares for predicting in-sample train data and out-sample test data. Note how the misclassification rate for the in-sample data is able to be 0."
      ],
      "metadata": {
        "id": "SzrIm24-dKLu"
      }
    },
    {
      "cell_type": "code",
      "source": [
        "# Change plot size\n",
        "options(repr.plot.width=10, repr.plot.height=5)\n",
        "\n",
        "#make plot consist of two subplots in a row\n",
        "par(mfrow=c(1,2),mar=c(4,6,1,1))\n",
        "\n",
        "plot(kvec,outMISS,type=\"l\",\n",
        "     xlab=\"k\",ylab=\"outMISS and inMISS\",\n",
        "     col=\"red\",ylim=range(outMISS))\n",
        "lines(kvec,inMISS,col=\"blue\")\n",
        "legend(x = \"topleft\",          # Position\n",
        "       legend = c(\"test Misclass (outMISS)\", \"train Misclass (inMISS)\"),  # Legend texts\n",
        "       lty = c(1, 1),           # Line types\n",
        "       col = c(\"red\", \"blue\"),           # Line colors\n",
        "       lwd = 2,                 # Line width\n",
        "       bty = \"n\")   # boundary type\n",
        "\n",
        "plot(log(1/kvec),outMISS,type=\"l\",\n",
        "     xlab=\"Complexity (log(1/k))\",ylab=\"outMISS and inMISS\",\n",
        "     col=\"red\",ylim=range(outMISS))\n",
        "lines(log(1/kvec),inMISS,col=\"blue\")\n",
        "legend(x = \"topleft\",          # Position\n",
        "       legend = c(\"test Misclass (outMISS)\", \"train Misclass (inMISS)\"),  # Legend texts\n",
        "       lty = c(1, 1),           # Line types\n",
        "       col = c(\"red\", \"blue\"),           # Line colors\n",
        "       lwd = 2,                 # Line width\n",
        "       bty = \"n\")   # boundary type"
      ],
      "metadata": {
        "colab": {
          "base_uri": "https://localhost:8080/",
          "height": 317
        },
        "id": "Xn7W-iW_5UdR",
        "outputId": "a3578cb1-70ee-44a3-a10b-8dad2b4648ba"
      },
      "execution_count": 21,
      "outputs": [
        {
          "output_type": "display_data",
          "data": {
            "text/plain": [
              "plot without title"
            ],
            "image/png": "[encoded data removed]"
          },
          "metadata": {
            "image/png": {
              "width": 600,
              "height": 300
            }
          }
        }
      ]
    },
    {
      "cell_type": "markdown",
      "source": [
        "With the information created above, we can find the optimal k for our data. Minimizing the outMISS vector and finding that index gives us the optimal k. We find this optimal k is 1. Then, we can make a new kNN model with this optimal k. With this new model, we can make a confusion matrix. We see that our overall accuracy is 99.45% which seems to be very good."
      ],
      "metadata": {
        "id": "LrOgZDL7g1yi"
      }
    },
    {
      "cell_type": "code",
      "source": [
        "kbest = which.min(outMISS) #find k with lowest misclassification\n",
        "kbest\n",
        "\n",
        "#create kNN model with the best k\n",
        "kmodbest = kknn(V1 ~., train=trainData, test=testData, k=kbest, kernel=\"rectangular\")\n",
        "\n",
        "confusionMatrix(kmodbest$fitted.values, testData$V1, positive='1') #display results"
      ],
      "metadata": {
        "colab": {
          "base_uri": "https://localhost:8080/",
          "height": 503
        },
        "id": "uxuyB-5bszaA",
        "outputId": "75ac2e5d-5925-40cd-82f0-8f6d48ee9532"
      },
      "execution_count": 22,
      "outputs": [
        {
          "output_type": "display_data",
          "data": {
            "text/html": [
              "1"
            ],
            "text/markdown": "1",
            "text/latex": "1",
            "text/plain": [
              "[1] 1"
            ]
          },
          "metadata": {}
        },
        {
          "output_type": "display_data",
          "data": {
            "text/plain": [
              "Confusion Matrix and Statistics\n",
              "\n",
              "          Reference\n",
              "Prediction   -1    1\n",
              "        -1  653   22\n",
              "        1    12 5477\n",
              "                                          \n",
              "               Accuracy : 0.9945          \n",
              "                 95% CI : (0.9923, 0.9962)\n",
              "    No Information Rate : 0.8921          \n",
              "    P-Value [Acc > NIR] : <2e-16          \n",
              "                                          \n",
              "                  Kappa : 0.9715          \n",
              "                                          \n",
              " Mcnemar's Test P-Value : 0.1227          \n",
              "                                          \n",
              "            Sensitivity : 0.9960          \n",
              "            Specificity : 0.9820          \n",
              "         Pos Pred Value : 0.9978          \n",
              "         Neg Pred Value : 0.9674          \n",
              "             Prevalence : 0.8921          \n",
              "         Detection Rate : 0.8885          \n",
              "   Detection Prevalence : 0.8905          \n",
              "      Balanced Accuracy : 0.9890          \n",
              "                                          \n",
              "       'Positive' Class : 1               \n",
              "                                          "
            ]
          },
          "metadata": {}
        }
      ]
    },
    {
      "cell_type": "markdown",
      "source": [
        "## Data Manipulation and Analysis Using train.kknn()\n",
        "There is another function within the kknn library. The function is train.kknn(). train.kknn() will create a kNN model and at the same time automatically determine the best k. It does this by performing Leave-One-Out cross validation. It performs Leave-One-Out CV up to the desired k and then chooses the best k which in this case is the one with the lowest misclassification rate. I chose k to go up to 300. train.kknn() appears to be extremely efficient. It only took 13 seconds to compute at kmax = 300. To compare, our above kknn() and loop took over 1 minute."
      ],
      "metadata": {
        "id": "HqPAaDd8iwM-"
      }
    },
    {
      "cell_type": "code",
      "source": [
        "#using train.kknn() to do it all!\n",
        "kmodtr2 = train.kknn(V1 ~., data=trainData, kmax=300, kernel=\"rectangular\")"
      ],
      "metadata": {
        "id": "O94kUT43b88E"
      },
      "execution_count": 23,
      "outputs": []
    },
    {
      "cell_type": "markdown",
      "source": [
        "Below we can see the output of the train.kknn() model. To predict the output we need to use the predict() function with the train.kknn() model and test data. We can use the MISCLASS component of the model to plot the misclassification rate at each k similar to the above plots."
      ],
      "metadata": {
        "id": "XTcKaRyLmDbx"
      }
    },
    {
      "cell_type": "code",
      "source": [
        "kmodtr2\n",
        "prediction = predict(kmodtr2, testData) #predict testData using train.kknn() model\n",
        "\n",
        "#plot misclassification rate\n",
        "plot(1:300,kmodtr2$MISCLASS,pch=16,xlab='k',ylab='Misclassification Rate')\n",
        "plot(log(1/1:300),kmodtr2$MISCLASS,pch=16,xlab='Complexity (log(1/k))',ylab='Misclassification Rate')"
      ],
      "metadata": {
        "colab": {
          "base_uri": "https://localhost:8080/",
          "height": 756
        },
        "id": "j1flFslNZJyj",
        "outputId": "33b5ae97-f5d4-46bd-9eee-4fdd014282cd"
      },
      "execution_count": 24,
      "outputs": [
        {
          "output_type": "display_data",
          "data": {
            "text/plain": [
              "\n",
              "Call:\n",
              "train.kknn(formula = V1 ~ ., data = trainData, kmax = 300, kernel = \"rectangular\")\n",
              "\n",
              "Type of response variable: nominal\n",
              "Minimal misclassification: 0.005\n",
              "Best kernel: rectangular\n",
              "Best k: 1"
            ]
          },
          "metadata": {}
        },
        {
          "output_type": "display_data",
          "data": {
            "text/plain": [
              "plot without title"
            ],
            "image/png": "[encoded data removed]"
          },
          "metadata": {
            "image/png": {
              "width": 600,
              "height": 300
            }
          }
        },
        {
          "output_type": "display_data",
          "data": {
            "text/plain": [
              "plot without title"
            ],
            "image/png": "[encoded data removed]"
          },
          "metadata": {
            "image/png": {
              "width": 600,
              "height": 300
            }
          }
        }
      ]
    },
    {
      "cell_type": "markdown",
      "source": [
        "Again, we can use a confusion matrix to display the results of the model on the test data. We get the same results as the kknn() loop model with and accuracy of 99.45%."
      ],
      "metadata": {
        "id": "GMZkdp0Enm4r"
      }
    },
    {
      "cell_type": "code",
      "source": [
        "confusionMatrix(prediction,testData$V1,positive='1') #display results from train.kknn()"
      ],
      "metadata": {
        "colab": {
          "base_uri": "https://localhost:8080/",
          "height": 486
        },
        "id": "MRHky1ewhl2o",
        "outputId": "930ea592-ece5-4567-f9a1-829acf72f9d6"
      },
      "execution_count": 25,
      "outputs": [
        {
          "output_type": "display_data",
          "data": {
            "text/plain": [
              "Confusion Matrix and Statistics\n",
              "\n",
              "          Reference\n",
              "Prediction   -1    1\n",
              "        -1  653   22\n",
              "        1    12 5477\n",
              "                                          \n",
              "               Accuracy : 0.9945          \n",
              "                 95% CI : (0.9923, 0.9962)\n",
              "    No Information Rate : 0.8921          \n",
              "    P-Value [Acc > NIR] : <2e-16          \n",
              "                                          \n",
              "                  Kappa : 0.9715          \n",
              "                                          \n",
              " Mcnemar's Test P-Value : 0.1227          \n",
              "                                          \n",
              "            Sensitivity : 0.9960          \n",
              "            Specificity : 0.9820          \n",
              "         Pos Pred Value : 0.9978          \n",
              "         Neg Pred Value : 0.9674          \n",
              "             Prevalence : 0.8921          \n",
              "         Detection Rate : 0.8885          \n",
              "   Detection Prevalence : 0.8905          \n",
              "      Balanced Accuracy : 0.9890          \n",
              "                                          \n",
              "       'Positive' Class : 1               \n",
              "                                          "
            ]
          },
          "metadata": {}
        }
      ]
    },
    {
      "cell_type": "markdown",
      "source": [
        "Our accuracy is skewed because of the proportion of 1's in the data being about 90%. Let's look at the accuracy of the -1 (abnormal wafer) predictions. We see this accuracy is 98.2%. This is calculated by ((# of -1's in test data) - (false positive))/(# of -1's in test data) This is a bit lower than the overall accuracy, but is still very good."
      ],
      "metadata": {
        "id": "IUQ960aEoIvd"
      }
    },
    {
      "cell_type": "code",
      "source": [
        "#show accuracy of prediction for -1 (abnormal wafers)\n",
        "(sum(testData$V1=='-1')-table(prediction,testData$V1)[2])/sum(testData$V1=='-1')"
      ],
      "metadata": {
        "colab": {
          "base_uri": "https://localhost:8080/",
          "height": 34
        },
        "id": "X0neu5TN0E5F",
        "outputId": "82003cca-301a-42d2-8933-7bdd12107e4a"
      },
      "execution_count": 26,
      "outputs": [
        {
          "output_type": "display_data",
          "data": {
            "text/html": [
              "0.981954887218045"
            ],
            "text/markdown": "0.981954887218045",
            "text/latex": "0.981954887218045",
            "text/plain": [
              "[1] 0.9819549"
            ]
          },
          "metadata": {}
        }
      ]
    },
    {
      "cell_type": "markdown",
      "source": [
        "## Data Manipulation and Analysis Using naive_bayes()\n",
        "\n",
        "Lastly, we can do a quick Naive Bayes classifier for fun. We can do this by using the naive_bayes() function from the naivebayes library. The first four lines of code are just resetting the data back to its original state. Then, the naive bayes model is created and predicted on the test data. The results are displayed in a confusion matrix. The overall accuracy is 87.2% which is decent for this application."
      ],
      "metadata": {
        "id": "iuQFnnIzqVru"
      }
    },
    {
      "cell_type": "code",
      "source": [
        "trainData = read.table(\"Wafer_TRAIN.txt\", header = FALSE, sep = \"\", dec = \".\")\n",
        "testData = read.table(\"Wafer_TEST.txt\", header = FALSE, sep = \"\", dec = \".\") #reading txt files to data frame\n",
        "\n",
        "trainData$V1 = as.factor(trainData$V1)\n",
        "testData$V1 = as.factor(testData$V1) #convert response variable to be categorical nominal\n",
        "\n",
        "nb = naive_bayes(V1~., trainData, usekernel = TRUE)\n",
        "prediction = predict(nb,testData[-1])\n",
        "\n",
        "confusionMatrix(prediction,testData$V1,positive='1')"
      ],
      "metadata": {
        "colab": {
          "base_uri": "https://localhost:8080/",
          "height": 486
        },
        "id": "VjkrDh5bzeh1",
        "outputId": "d1403f36-4de3-4c47-e610-d69ca75c471e"
      },
      "execution_count": 27,
      "outputs": [
        {
          "output_type": "display_data",
          "data": {
            "text/plain": [
              "Confusion Matrix and Statistics\n",
              "\n",
              "          Reference\n",
              "Prediction   -1    1\n",
              "        -1  462  586\n",
              "        1   203 4913\n",
              "                                          \n",
              "               Accuracy : 0.872           \n",
              "                 95% CI : (0.8634, 0.8802)\n",
              "    No Information Rate : 0.8921          \n",
              "    P-Value [Acc > NIR] : 1               \n",
              "                                          \n",
              "                  Kappa : 0.4694          \n",
              "                                          \n",
              " Mcnemar's Test P-Value : <2e-16          \n",
              "                                          \n",
              "            Sensitivity : 0.8934          \n",
              "            Specificity : 0.6947          \n",
              "         Pos Pred Value : 0.9603          \n",
              "         Neg Pred Value : 0.4408          \n",
              "             Prevalence : 0.8921          \n",
              "         Detection Rate : 0.7970          \n",
              "   Detection Prevalence : 0.8300          \n",
              "      Balanced Accuracy : 0.7941          \n",
              "                                          \n",
              "       'Positive' Class : 1               \n",
              "                                          "
            ]
          },
          "metadata": {}
        }
      ]
    },
    {
      "cell_type": "markdown",
      "source": [
        "Again, our accuracy is skewed because of the proportion of 1's in the data being about 90%. Let's look at the accuracy of the -1 (abnormal wafer) predictions. We see this accuracy is 69.47%. This is substantially lower than the overall accuracy. The accuracy of 1 (normal wafer) predictions is 89.35%."
      ],
      "metadata": {
        "id": "q8y2voaesAYU"
      }
    },
    {
      "cell_type": "code",
      "source": [
        "(sum(testData$V1=='-1')-table(prediction,testData$V1)[2])/sum(testData$V1=='-1')\n",
        "(sum(testData$V1=='1')-table(prediction,testData$V1)[1,2])/sum(testData$V1=='1')"
      ],
      "metadata": {
        "colab": {
          "base_uri": "https://localhost:8080/",
          "height": 52
        },
        "id": "Y_4mtyeR94Df",
        "outputId": "9d93b7af-8dc6-4ae8-a396-e696822697d4"
      },
      "execution_count": 28,
      "outputs": [
        {
          "output_type": "display_data",
          "data": {
            "text/html": [
              "0.694736842105263"
            ],
            "text/markdown": "0.694736842105263",
            "text/latex": "0.694736842105263",
            "text/plain": [
              "[1] 0.6947368"
            ]
          },
          "metadata": {}
        },
        {
          "output_type": "display_data",
          "data": {
            "text/html": [
              "0.893435170030915"
            ],
            "text/markdown": "0.893435170030915",
            "text/latex": "0.893435170030915",
            "text/plain": [
              "[1] 0.8934352"
            ]
          },
          "metadata": {}
        }
      ]
    },
    {
      "cell_type": "markdown",
      "source": [
        "## Conclusion\n",
        "In this project we used K-nearest neighbors as a classifier and Naive Bayes classifier to predict a binary categorical output. When predicting on test data, K-nearest neighbors achieved a balanced accuracy of 98.9% and Naive Bayes achieved a balanced accuracy of 79.41%. The accuracy of the kNN model is quite amazing!\n",
        "\n",
        "In the future, there may be a few ways to improve the models. First, since there are 153 variables, we may be able to reduce the number of variables while maintaining or increasing accuracy. Second, we could try different rescaling methods for the kNN model. Third, we could address the class imbalance between the normal (90%) and abnormal (10%) wafers."
      ],
      "metadata": {
        "id": "-05rmx_sejZf"
      }
    }
  ]
}