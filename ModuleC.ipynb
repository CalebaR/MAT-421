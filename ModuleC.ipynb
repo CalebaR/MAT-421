{
  "nbformat": 4,
  "nbformat_minor": 0,
  "metadata": {
    "colab": {
      "provenance": [],
      "authorship_tag": "ABX9TyN4yEARwuEI/+PQS8fPRXRf",
      "include_colab_link": true
    },
    "kernelspec": {
      "name": "python3",
      "display_name": "Python 3"
    },
    "language_info": {
      "name": "python"
    }
  },
  "cells": [
    {
      "cell_type": "markdown",
      "metadata": {
        "id": "view-in-github",
        "colab_type": "text"
      },
      "source": [
        "<a href=\"https://colab.research.google.com/github/CalebaR/MAT-421/blob/main/ModuleC.ipynb\" target=\"_parent\"><img src=\"https://colab.research.google.com/assets/colab-badge.svg\" alt=\"Open In Colab\"/></a>"
      ]
    },
    {
      "cell_type": "markdown",
      "source": [
        "**19.1: Root Finding Problem Statement**\\\n",
        "The root of the a function is where y = 0 or f(x) = 0. A function may have 0 roots or many roots. Some function have roots that are very easy to find directly or with a formula. But many functions have roots that are not possible to find directly. There can be approximations with various methods"
      ],
      "metadata": {
        "id": "vBUjapl_fFc6"
      }
    },
    {
      "cell_type": "code",
      "execution_count": 14,
      "metadata": {
        "id": "vosiZ09AeuxE",
        "colab": {
          "base_uri": "https://localhost:8080/",
          "height": 466
        },
        "outputId": "058d5768-fca5-4da7-a05c-019bf3b40aa5"
      },
      "outputs": [
        {
          "output_type": "stream",
          "name": "stdout",
          "text": [
            "r = [0.73908513]\n",
            "result= [0.]\n"
          ]
        },
        {
          "output_type": "display_data",
          "data": {
            "text/plain": [
              "<Figure size 640x480 with 1 Axes>"
            ],
            "image/png": "[encoded data removed]"
          },
          "metadata": {}
        }
      ],
      "source": [
        "import numpy as np\n",
        "import matplotlib.pyplot as plt\n",
        "from scipy import optimize\n",
        "\n",
        "x = np.linspace(-5,5)\n",
        "y = np.cos(x) - x\n",
        "plt.plot(x,y)\n",
        "\n",
        "f = lambda x: np.cos(x) - x\n",
        "r = optimize.fsolve(f, -2)\n",
        "print(\"r =\", r)\n",
        "\n",
        "# Verify the solution is a root\n",
        "result = f(r)\n",
        "print(\"result=\", result)\n",
        "plt.plot(r,0,'or');"
      ]
    },
    {
      "cell_type": "markdown",
      "source": [
        "**19.2: Tolerance**"
      ],
      "metadata": {
        "id": "f84OHU4qfIlJ"
      }
    },
    {
      "cell_type": "code",
      "source": [],
      "metadata": {
        "id": "07BE32VAfI_r"
      },
      "execution_count": null,
      "outputs": []
    },
    {
      "cell_type": "markdown",
      "source": [
        "**19.3: Bisection Method**"
      ],
      "metadata": {
        "id": "1tcy40oKfJXL"
      }
    },
    {
      "cell_type": "code",
      "source": [],
      "metadata": {
        "id": "ic5fZ5UPfJqB"
      },
      "execution_count": null,
      "outputs": []
    },
    {
      "cell_type": "markdown",
      "source": [
        "**19.4: Newton-Raphson Method**"
      ],
      "metadata": {
        "id": "mptiBNDUfJ50"
      }
    },
    {
      "cell_type": "code",
      "source": [],
      "metadata": {
        "id": "cELZ5turfKDO"
      },
      "execution_count": null,
      "outputs": []
    },
    {
      "cell_type": "markdown",
      "source": [
        "**19.5: Root Finding in Python**"
      ],
      "metadata": {
        "id": "80rqpUhJfKSB"
      }
    },
    {
      "cell_type": "code",
      "source": [],
      "metadata": {
        "id": "7dYQ8BfffKbL"
      },
      "execution_count": null,
      "outputs": []
    }
  ]
}