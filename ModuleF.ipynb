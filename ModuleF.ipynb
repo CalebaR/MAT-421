{
  "nbformat": 4,
  "nbformat_minor": 0,
  "metadata": {
    "colab": {
      "provenance": [],
      "authorship_tag": "ABX9TyOH2NafySfP7wd41Dr9KPHH",
      "include_colab_link": true
    },
    "kernelspec": {
      "name": "python3",
      "display_name": "Python 3"
    },
    "language_info": {
      "name": "python"
    }
  },
  "cells": [
    {
      "cell_type": "markdown",
      "metadata": {
        "id": "view-in-github",
        "colab_type": "text"
      },
      "source": [
        "<a href=\"https://colab.research.google.com/github/CalebaR/MAT-421/blob/main/ModuleF.ipynb\" target=\"_parent\"><img src=\"https://colab.research.google.com/assets/colab-badge.svg\" alt=\"Open In Colab\"/></a>"
      ]
    },
    {
      "cell_type": "markdown",
      "source": [
        "**20.1: Numerical Differentiation Problem Statement**\\\n"
      ],
      "metadata": {
        "id": "5MMSu6XO1-87"
      }
    },
    {
      "cell_type": "markdown",
      "source": [
        "**20.2: Finite Difference Approximating Derivatives**"
      ],
      "metadata": {
        "id": "39zFKw_u1_tu"
      }
    },
    {
      "cell_type": "code",
      "source": [],
      "metadata": {
        "id": "qWFISlM-2AgJ"
      },
      "execution_count": null,
      "outputs": []
    },
    {
      "cell_type": "markdown",
      "source": [
        "**20.3: Approximating of Higher Order Derivatives**"
      ],
      "metadata": {
        "id": "a2BdOm0y2BQk"
      }
    },
    {
      "cell_type": "code",
      "source": [],
      "metadata": {
        "id": "tXEZ8-eB2BzU"
      },
      "execution_count": null,
      "outputs": []
    },
    {
      "cell_type": "markdown",
      "source": [
        "**20.4: Numerical Differentiation with Noise**"
      ],
      "metadata": {
        "id": "_C_Ie8jN2ErU"
      }
    },
    {
      "cell_type": "code",
      "source": [],
      "metadata": {
        "id": "F-lQEPYe2E9E"
      },
      "execution_count": null,
      "outputs": []
    }
  ]
}