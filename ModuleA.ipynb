{
  "nbformat": 4,
  "nbformat_minor": 0,
  "metadata": {
    "colab": {
      "provenance": [],
      "authorship_tag": "ABX9TyOaus2khAGJkBi7Ts3BSwPp",
      "include_colab_link": true
    },
    "kernelspec": {
      "name": "python3",
      "display_name": "Python 3"
    },
    "language_info": {
      "name": "python"
    }
  },
  "cells": [
    {
      "cell_type": "markdown",
      "metadata": {
        "id": "view-in-github",
        "colab_type": "text"
      },
      "source": [
        "<a href=\"https://colab.research.google.com/github/CalebaR/MAT-421/blob/main/ModuleA.ipynb\" target=\"_parent\"><img src=\"https://colab.research.google.com/assets/colab-badge.svg\" alt=\"Open In Colab\"/></a>"
      ]
    },
    {
      "cell_type": "markdown",
      "source": [
        "**9.1: Base-N and Binary**\\\n",
        "In everyday life we use the base 10 decimal system with digits 0-9\\\n",
        "Computers use binary which is the base 2 decimal system with digits 0 and 1"
      ],
      "metadata": {
        "id": "a_BdihPab8Sd"
      }
    },
    {
      "cell_type": "code",
      "execution_count": 4,
      "metadata": {
        "id": "LFk6Z7gjZ5br",
        "colab": {
          "base_uri": "https://localhost:8080/"
        },
        "outputId": "ada98588-ab45-4ca2-de12-77ff030f6808"
      },
      "outputs": [
        {
          "output_type": "execute_result",
          "data": {
            "text/plain": [
              "True"
            ]
          },
          "metadata": {},
          "execution_count": 4
        }
      ],
      "source": [
        "#Decimal expansion of 950.1\n",
        "950.1 == 9*(10**2) + 5*(10**1) + 0*(10**0) + 1*(10**-1)"
      ]
    },
    {
      "cell_type": "code",
      "source": [
        "#Base 6 to decimal. 3514 (base 6) to decimal (base 10)\n",
        "3*(6**3) + 5*(6**2) + 1*(6**1) + 4*(6**0)"
      ],
      "metadata": {
        "colab": {
          "base_uri": "https://localhost:8080/"
        },
        "id": "m1AfMLM0u_Tr",
        "outputId": "e9d7dddd-3cd2-4e98-f68a-70ba2297beb7"
      },
      "execution_count": 6,
      "outputs": [
        {
          "output_type": "execute_result",
          "data": {
            "text/plain": [
              "838"
            ]
          },
          "metadata": {},
          "execution_count": 6
        }
      ]
    },
    {
      "cell_type": "code",
      "source": [
        "#Base 10 to binary. 53 (base 10) to binary.\n",
        "#53 is 32 + 16 + 4 +1 = 1*2**5 + 1*2**4 + 0*2**3 + 1*2**2 + 0*2**1 + 1*2**0 = 53\n",
        "# So 53 in binary is 110101\n",
        "#check using bin() function\n",
        "bin(53) #0b prefix represents binary number to help differentiate between base 10"
      ],
      "metadata": {
        "colab": {
          "base_uri": "https://localhost:8080/",
          "height": 35
        },
        "id": "sufdQOdtvYEM",
        "outputId": "303c362f-ace7-4521-b5c8-0eadfdbb7a59"
      },
      "execution_count": 9,
      "outputs": [
        {
          "output_type": "execute_result",
          "data": {
            "text/plain": [
              "'0b110101'"
            ],
            "application/vnd.google.colaboratory.intrinsic+json": {
              "type": "string"
            }
          },
          "metadata": {},
          "execution_count": 9
        }
      ]
    },
    {
      "cell_type": "code",
      "source": [
        "#Binary to base 10. 10111 (binary) to base 10\n",
        "1*2**4 + 0*2**3 + 1*2**2 + 1*2**1 + 1*2**0"
      ],
      "metadata": {
        "colab": {
          "base_uri": "https://localhost:8080/"
        },
        "id": "fReVH_z4vxDU",
        "outputId": "80f94a8c-c3f4-48ab-b617-d0fe8ff48398"
      },
      "execution_count": 11,
      "outputs": [
        {
          "output_type": "execute_result",
          "data": {
            "text/plain": [
              "23"
            ]
          },
          "metadata": {},
          "execution_count": 11
        }
      ]
    },
    {
      "cell_type": "code",
      "source": [
        "#use int() funtion to convert binary to decimal\n",
        "int(0b10111)"
      ],
      "metadata": {
        "colab": {
          "base_uri": "https://localhost:8080/"
        },
        "id": "2Nr26BsDzYu-",
        "outputId": "62d5b4d8-c4e6-43e4-8835-6e185ff52c23"
      },
      "execution_count": 13,
      "outputs": [
        {
          "output_type": "execute_result",
          "data": {
            "text/plain": [
              "23"
            ]
          },
          "metadata": {},
          "execution_count": 13
        }
      ]
    },
    {
      "cell_type": "code",
      "source": [
        "#addition in binary. adding 105 and 45 in binary\n",
        "a = bin(105)\n",
        "b = bin(45)\n",
        "print(\"\",a , \"\\n+\",b)\n",
        "print(\"=\", )\n",
        "print(bin(0b1101001 + 0b101101)) # binary numbers can be added the same way as decimal numbers\n",
        "int(0b10010110)"
      ],
      "metadata": {
        "colab": {
          "base_uri": "https://localhost:8080/"
        },
        "id": "DuloTS4tznmt",
        "outputId": "7ab2ebaa-7216-442c-e850-700185d2ebda"
      },
      "execution_count": 9,
      "outputs": [
        {
          "output_type": "stream",
          "name": "stdout",
          "text": [
            " 0b1101001 \n",
            "+ 0b101101\n",
            "=\n",
            "0b10010110\n"
          ]
        },
        {
          "output_type": "execute_result",
          "data": {
            "text/plain": [
              "150"
            ]
          },
          "metadata": {},
          "execution_count": 9
        }
      ]
    },
    {
      "cell_type": "code",
      "source": [
        "#multiplication in binary. multiplying 105 and 45 in binary\n",
        "a = bin(105)\n",
        "b = bin(45)\n",
        "print(\"\",a , \"\\n*\",b)\n",
        "print(\"=\", )\n",
        "print(bin(0b1101001 * 0b101101)) # binary numbers can be multiplied the same way as decimal numbers\n",
        "int(0b1001001110101)"
      ],
      "metadata": {
        "colab": {
          "base_uri": "https://localhost:8080/"
        },
        "id": "_M_XMuCGQgSH",
        "outputId": "49f54d15-0af8-4604-9e1d-bcf9f88027e9"
      },
      "execution_count": 11,
      "outputs": [
        {
          "output_type": "stream",
          "name": "stdout",
          "text": [
            " 0b1101001 \n",
            "* 0b101101\n",
            "=\n",
            "0b1001001110101\n"
          ]
        },
        {
          "output_type": "execute_result",
          "data": {
            "text/plain": [
              "4725"
            ]
          },
          "metadata": {},
          "execution_count": 11
        }
      ]
    },
    {
      "cell_type": "markdown",
      "source": [
        "**9.2: Floating Point Numbers**\\\n",
        "A float in Python is double precision meaning it can hold 64 bits. 1 bit for sign, 11 bits for exponent and 52 bits for fraction"
      ],
      "metadata": {
        "id": "1NCTf5gfcnfl"
      }
    },
    {
      "cell_type": "code",
      "source": [
        "import sys\n",
        "sys.float_info #this gives float info such as max which is the largest 64 bit number\n"
      ],
      "metadata": {
        "colab": {
          "base_uri": "https://localhost:8080/"
        },
        "id": "oLdkNluecuNm",
        "outputId": "39e7a96c-af9e-4f7d-9547-7ac08ec33f5b"
      },
      "execution_count": 16,
      "outputs": [
        {
          "output_type": "execute_result",
          "data": {
            "text/plain": [
              "sys.float_info(max=1.7976931348623157e+308, max_exp=1024, max_10_exp=308, min=2.2250738585072014e-308, min_exp=-1021, min_10_exp=-307, dig=15, mant_dig=53, epsilon=2.220446049250313e-16, radix=2, rounds=1)"
            ]
          },
          "metadata": {},
          "execution_count": 16
        }
      ]
    },
    {
      "cell_type": "markdown",
      "source": [
        "![image.png](data:image/png;base64,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)\\\n",
        "formula for representing float"
      ],
      "metadata": {
        "id": "M8XTN5z-VfSI"
      }
    },
    {
      "cell_type": "code",
      "source": [
        "#converting IEEE754 number to base 10 number. Converting 0 10000001010 1100000000000000000000000000000000000000000000000000 to base 10\n",
        "\n",
        "s = 0\n",
        "e = int(0b10000001010)\n",
        "f = 1*(1/(2**1)) + 1*(1/(2**2))\n",
        "(-1)**s*(2**(e-1023))*(1+f) #formula for representing float"
      ],
      "metadata": {
        "colab": {
          "base_uri": "https://localhost:8080/"
        },
        "id": "ak5JUcr5UxbM",
        "outputId": "04d79329-122d-4ed3-8353-60e11755e5c6"
      },
      "execution_count": 30,
      "outputs": [
        {
          "output_type": "execute_result",
          "data": {
            "text/plain": [
              "3584.0"
            ]
          },
          "metadata": {},
          "execution_count": 30
        }
      ]
    },
    {
      "cell_type": "code",
      "source": [
        "#converting 25.0 to IEEE754\n",
        "\n",
        "s = 0\n",
        "e = 4 + 1023\n",
        "f = 25/16 - 1 #0.5625\n",
        "f1 = 1*(1/(2**1)) + 0*(1/(2**2)) + 0*(1/(2**3)) + 1*(1/(2**4)) #0.5625 to fractions\n",
        "\n",
        "print(s , bin(e), \"0b1001000000000000000000000000000000000000000000000000\")"
      ],
      "metadata": {
        "colab": {
          "base_uri": "https://localhost:8080/"
        },
        "id": "6S_K6nl5caNB",
        "outputId": "dd3ff96c-a3ed-4a20-b4bd-843949a46f1a"
      },
      "execution_count": 46,
      "outputs": [
        {
          "output_type": "stream",
          "name": "stdout",
          "text": [
            "0 0b10000000011 0b1001000000000000000000000000000000000000000000000000\n"
          ]
        }
      ]
    },
    {
      "cell_type": "code",
      "source": [
        "#since floats have limited precision in a computer, there is a gap one number and the next. the spacing() function can show this gap\n",
        "\n",
        "import numpy as np\n",
        "\n",
        "print(np.spacing(15.0))\n",
        "\n",
        "print(np.spacing(25.0))\n",
        "\n",
        "print(np.spacing(1000.0))\n",
        "\n",
        "print(np.spacing(1e10)) #we can see as the number increases, the gap decreases\n",
        "\n",
        "1e10 == (1e10 + np.spacing(1e10)/5) #here demonstrates how the gap affects a float. 1e10 + 1/5 of the gap is represented the same as 1e10 in Python"
      ],
      "metadata": {
        "colab": {
          "base_uri": "https://localhost:8080/"
        },
        "id": "iSuEZJllhowX",
        "outputId": "e02e4722-a5c6-44f2-eb00-d9595ee747d8"
      },
      "execution_count": 55,
      "outputs": [
        {
          "output_type": "stream",
          "name": "stdout",
          "text": [
            "1.7763568394002505e-15\n",
            "3.552713678800501e-15\n",
            "1.1368683772161603e-13\n",
            "1.9073486328125e-06\n"
          ]
        },
        {
          "output_type": "execute_result",
          "data": {
            "text/plain": [
              "True"
            ]
          },
          "metadata": {},
          "execution_count": 55
        }
      ]
    },
    {
      "cell_type": "code",
      "source": [
        "#Overflow is when a float exceeds the max 64 bit size. Here we can see how Python reacts when max is exceeded\n",
        "print(sys.float_info.max)\n",
        "print(sys.float_info.max + 1e10)\n",
        "print(sys.float_info.max + sys.float_info.max)\n",
        "\n",
        "np.spacing(1.6976931348623157e+308) #since the gap is so large at this high of a number adding 1e10 to the max resulted in the max"
      ],
      "metadata": {
        "colab": {
          "base_uri": "https://localhost:8080/"
        },
        "id": "quW7dFXejh9n",
        "outputId": "678e1c7a-937d-42d0-e4b5-6ac462378010"
      },
      "execution_count": 93,
      "outputs": [
        {
          "output_type": "stream",
          "name": "stdout",
          "text": [
            "1.7976931348623157e+308\n",
            "1.7976931348623157e+308\n",
            "inf\n"
          ]
        },
        {
          "output_type": "execute_result",
          "data": {
            "text/plain": [
              "1.99584030953472e+292"
            ]
          },
          "metadata": {},
          "execution_count": 93
        }
      ]
    },
    {
      "cell_type": "code",
      "source": [
        "#Underflow is when a float exceeds the min 64 bit size. Here we can see how Python reacts when min is exceeded\n",
        "print(sys.float_info.min)\n",
        "print(sys.float_info.min - 1e-320)\n",
        "sys.float_info.min - sys.float_info.min"
      ],
      "metadata": {
        "colab": {
          "base_uri": "https://localhost:8080/"
        },
        "id": "_jYMkg3Allt1",
        "outputId": "f61accfc-a55f-4a9b-b493-ae7b72614800"
      },
      "execution_count": 83,
      "outputs": [
        {
          "output_type": "stream",
          "name": "stdout",
          "text": [
            "2.2250738585072014e-308\n",
            "2.2250738585062014e-308\n"
          ]
        },
        {
          "output_type": "execute_result",
          "data": {
            "text/plain": [
              "0.0"
            ]
          },
          "metadata": {},
          "execution_count": 83
        }
      ]
    },
    {
      "cell_type": "markdown",
      "source": [
        "**9.3: Round-off Errors**\\\n",
        "As seen before, there is a gap between numbers due to limited precision. This allows us to say that many floats in Python are an approximation. Round-off error is the difference between the approximation and its true value. Round-off error may seem small in some cases, but error can add up after multiple calculations. It's also a problem when using =="
      ],
      "metadata": {
        "id": "7Hfp-yOlcvM2"
      }
    },
    {
      "cell_type": "code",
      "source": [
        "#demonstration of an approximation\n",
        "print(\"%.21f\" % 0.1) # here we can see that 0.1 is actually an approximation\n",
        "print(\"%.100f\" % 0.5) #0.5 can be exactly stored in IEE754"
      ],
      "metadata": {
        "colab": {
          "base_uri": "https://localhost:8080/"
        },
        "id": "8g0g9gqWcv9s",
        "outputId": "f381958f-31e1-4eec-eee2-335ed56fca88"
      },
      "execution_count": 127,
      "outputs": [
        {
          "output_type": "stream",
          "name": "stdout",
          "text": [
            "0.100000000000000005551\n",
            "0.5000000000000000000000000000000000000000000000000000000000000000000000000000000000000000000000000000\n"
          ]
        }
      ]
    },
    {
      "cell_type": "code",
      "source": [
        "#unintended issues when using ==\n",
        "\n",
        "print(0.1 + 0.1 == 0.2)\n",
        "print(\"%.21f\" % (0.1 + 0.1))\n",
        "print(\"%.21f\" % 0.2) # here we can see how 0.1 + 0.1 does == 0.2 in Python, even though 0.2 is not exactly 0.2\n",
        "\n",
        "print('\\n')\n",
        "\n",
        "print(0.1 + 0.1 + 0.1 == 0.3) #let's test to see if an accumulation of error \"breaks\" ==\n",
        "print(\"%.21f\" % (0.1 + 0.1 + 0.1))\n",
        "print(\"%.21f\" % 0.3)\n",
        "print(\"Spacing/gap:\",np.spacing(0.3)) #Even though 0.1 + 0.1 + 0.1 and 0.3 are very close in value, the gap at these small numbers is quite precise so == results in False"
      ],
      "metadata": {
        "colab": {
          "base_uri": "https://localhost:8080/"
        },
        "id": "SSmW0Ea3uuhX",
        "outputId": "21f10eaa-f1c9-4659-8966-c5cd811559fe"
      },
      "execution_count": 136,
      "outputs": [
        {
          "output_type": "stream",
          "name": "stdout",
          "text": [
            "True\n",
            "0.200000000000000011102\n",
            "0.200000000000000011102\n",
            "\n",
            "\n",
            "False\n",
            "0.300000000000000044409\n",
            "0.299999999999999988898\n",
            "Spacing/gap: 5.551115123125783e-17\n"
          ]
        }
      ]
    },
    {
      "cell_type": "code",
      "source": [
        "#Lets test how much error we can get in a large loop\n",
        "\n",
        "c = 0\n",
        "acc = 0\n",
        "while c < 100:\n",
        "  acc += 0.1\n",
        "  c +=1\n",
        "print(acc)\n",
        "\n",
        "c = 0\n",
        "acc = 0\n",
        "while c < 10000:\n",
        "  acc += 0.1\n",
        "  c +=1\n",
        "print(acc) #we can see how the decimal error increases between 100 and 10000 loops\n",
        "print(\"%.21f\" % (0.1*1000)) # in this case it would be a better idea to multiply 0.1*10000 to eliminate error"
      ],
      "metadata": {
        "colab": {
          "base_uri": "https://localhost:8080/"
        },
        "id": "c1B_zot2yQ7t",
        "outputId": "57be9a3b-2ca6-4e2c-bfbf-912e4044e4a4"
      },
      "execution_count": 179,
      "outputs": [
        {
          "output_type": "stream",
          "name": "stdout",
          "text": [
            "9.99999999999998\n",
            "1000.0000000001588\n",
            "100.000000000000000000000\n"
          ]
        }
      ]
    }
  ]
}