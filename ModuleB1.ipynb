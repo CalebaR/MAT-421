{
  "nbformat": 4,
  "nbformat_minor": 0,
  "metadata": {
    "colab": {
      "provenance": [],
      "authorship_tag": "ABX9TyPFPvR703slo/WX8DmOUDSD",
      "include_colab_link": true
    },
    "kernelspec": {
      "name": "python3",
      "display_name": "Python 3"
    },
    "language_info": {
      "name": "python"
    }
  },
  "cells": [
    {
      "cell_type": "markdown",
      "metadata": {
        "id": "view-in-github",
        "colab_type": "text"
      },
      "source": [
        "<a href=\"https://colab.research.google.com/github/CalebaR/MAT-421/blob/main/ModuleB1.ipynb\" target=\"_parent\"><img src=\"https://colab.research.google.com/assets/colab-badge.svg\" alt=\"Open In Colab\"/></a>"
      ]
    },
    {
      "cell_type": "markdown",
      "source": [
        "**17.1: Interpolation Problem Statement**\\\n",
        "Interpolation is a way to estimate a function for a set of discrete data points. The estimated function improves when there are many reliable data points. Human intuition can sometimes be helpful in deciding the quality of an interpolation: some interpolations are expected to be linear/jagged and some are expected to be smooth."
      ],
      "metadata": {
        "id": "q70yMYMUsj2M"
      }
    },
    {
      "cell_type": "code",
      "execution_count": null,
      "metadata": {
        "id": "64yVKDnGsTif"
      },
      "outputs": [],
      "source": [
        "#Example plot of data points we may want to interpolate on"
      ]
    },
    {
      "cell_type": "markdown",
      "source": [
        "**17.2: Linear Interpolation**"
      ],
      "metadata": {
        "id": "oTLb6vB9s7fj"
      }
    },
    {
      "cell_type": "code",
      "source": [],
      "metadata": {
        "id": "KmklFgBPsoV3"
      },
      "execution_count": null,
      "outputs": []
    },
    {
      "cell_type": "markdown",
      "source": [
        "**17.3: Cubic Spline Interpolation**"
      ],
      "metadata": {
        "id": "IJXOLC_Csnvy"
      }
    },
    {
      "cell_type": "code",
      "source": [],
      "metadata": {
        "id": "qszVPrCPw6in"
      },
      "execution_count": null,
      "outputs": []
    }
  ]
}